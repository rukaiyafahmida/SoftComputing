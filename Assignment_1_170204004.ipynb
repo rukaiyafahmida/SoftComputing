{
  "nbformat": 4,
  "nbformat_minor": 0,
  "metadata": {
    "colab": {
      "name": "Assignment_1_170204004.ipynb",
      "provenance": [],
      "collapsed_sections": [],
      "toc_visible": true,
      "include_colab_link": true
    },
    "kernelspec": {
      "name": "python3",
      "display_name": "Python 3"
    },
    "accelerator": "GPU"
  },
  "cells": [
    {
      "cell_type": "markdown",
      "metadata": {
        "id": "view-in-github",
        "colab_type": "text"
      },
      "source": [
        "<a href=\"https://colab.research.google.com/github/rukaiyafahmida/SoftComputing/blob/main/Assignment_1_170204004.ipynb\" target=\"_parent\"><img src=\"https://colab.research.google.com/assets/colab-badge.svg\" alt=\"Open In Colab\"/></a>"
      ]
    },
    {
      "cell_type": "code",
      "source": [
        "from google.colab import drive\n",
        "drive.mount('/content/drive')"
      ],
      "metadata": {
        "id": "h42yKWQd64jR",
        "colab": {
          "base_uri": "https://localhost:8080/"
        },
        "outputId": "5f2ef8d4-59c5-403f-a124-94b182710f12"
      },
      "execution_count": null,
      "outputs": [
        {
          "output_type": "stream",
          "name": "stdout",
          "text": [
            "Mounted at /content/drive\n"
          ]
        }
      ]
    },
    {
      "cell_type": "code",
      "metadata": {
        "id": "9TsyEQH-MHwG",
        "colab": {
          "base_uri": "https://localhost:8080/"
        },
        "outputId": "3c6a4b32-240f-444b-f135-2a7509a1e5bd"
      },
      "source": [
        "!pip install torchmetrics\n",
        "import os\n",
        "import numpy as np\n",
        "import pandas as pd\n",
        "import torch\n",
        "import torchvision\n",
        "from torchvision.datasets.utils import download_url\n",
        "from torch.utils.data import random_split\n",
        "from torchvision.datasets import ImageFolder\n",
        "from torchvision import transforms\n",
        "from torch.utils.data.dataloader import DataLoader\n",
        "import torchmetrics\n",
        "import math"
      ],
      "execution_count": null,
      "outputs": [
        {
          "output_type": "stream",
          "name": "stdout",
          "text": [
            "Requirement already satisfied: torchmetrics in /usr/local/lib/python3.7/dist-packages (0.7.2)\n",
            "Requirement already satisfied: pyDeprecate==0.3.* in /usr/local/lib/python3.7/dist-packages (from torchmetrics) (0.3.2)\n",
            "Requirement already satisfied: numpy>=1.17.2 in /usr/local/lib/python3.7/dist-packages (from torchmetrics) (1.21.5)\n",
            "Requirement already satisfied: torch>=1.3.1 in /usr/local/lib/python3.7/dist-packages (from torchmetrics) (1.10.0+cu111)\n",
            "Requirement already satisfied: packaging in /usr/local/lib/python3.7/dist-packages (from torchmetrics) (21.3)\n",
            "Requirement already satisfied: typing-extensions in /usr/local/lib/python3.7/dist-packages (from torch>=1.3.1->torchmetrics) (3.10.0.2)\n",
            "Requirement already satisfied: pyparsing!=3.0.5,>=2.0.2 in /usr/local/lib/python3.7/dist-packages (from packaging->torchmetrics) (3.0.7)\n"
          ]
        }
      ]
    },
    {
      "cell_type": "code",
      "source": [
        "df0 = pd.read_csv('/content/drive/MyDrive/4.2 Rukaiya/assignment2Data/firmware/firmware.csv')\n",
        "df0"
      ],
      "metadata": {
        "colab": {
          "base_uri": "https://localhost:8080/",
          "height": 852
        },
        "id": "qd7E4EwuOnsp",
        "outputId": "7bf8f7da-f6c1-4de1-e06e-f576ebfcea9a"
      },
      "execution_count": null,
      "outputs": [
        {
          "output_type": "execute_result",
          "data": {
            "text/plain": [
              "                                                filename       class  target  \\\n",
              "0      x86__64__lsb__unix-system-v__clang-3.8.0__O0__...     malware       1   \n",
              "1      x86__64__lsb__unix-system-v__clang-3.8.0__O0__...     malware       1   \n",
              "2      x86__64__lsb__unix-system-v__clang-3.8.0__O0__...     malware       1   \n",
              "3      x86__64__lsb__unix-system-v__clang-3.8.0__O0__...     malware       1   \n",
              "4      x86__64__lsb__unix-system-v__clang-3.8.0__O0__...     malware       1   \n",
              "...                                                  ...         ...     ...   \n",
              "38882  x86__64__lsb__unix-system-v__llvm-obfuscator-3...  benignware       0   \n",
              "38883  x86__64__lsb__unix-system-v__llvm-obfuscator-3...  benignware       0   \n",
              "38884  x86__64__lsb__unix-system-v__llvm-obfuscator-3...  benignware       0   \n",
              "38885  x86__64__lsb__unix-system-v__clang-3.9.0__O0__...  benignware       0   \n",
              "38886  x86__64__lsb__unix-system-v__llvm-obfuscator-4...  benignware       0   \n",
              "\n",
              "       pixel1  pixel2  pixel3  pixel4  pixel5  pixel6  pixel7  ...  pixel1016  \\\n",
              "0          85      17      34      34       0      17      17  ...          0   \n",
              "1          85      17      34      34       0      17      17  ...          0   \n",
              "2          85      17      34      34       0      17      17  ...          0   \n",
              "3          85      17      34      34       0      17      17  ...          0   \n",
              "4          85      17      34      34       0      17      17  ...          0   \n",
              "...       ...     ...     ...     ...     ...     ...     ...  ...        ...   \n",
              "38882      85      17      34      34       0      17      17  ...          0   \n",
              "38883      85      17      34      34       0      17      17  ...          0   \n",
              "38884      85      17      34      34       0      17      17  ...          0   \n",
              "38885      85      17      34      34       0      17      17  ...          0   \n",
              "38886      85      17      34      34       0      17      17  ...          0   \n",
              "\n",
              "       pixel1017  pixel1018  pixel1019  pixel1020  pixel1021  pixel1022  \\\n",
              "0              0          0          0          0          0          0   \n",
              "1             51          0          0          0         34          0   \n",
              "2              0          0          0          0          0          0   \n",
              "3             51          0          0          0         34          0   \n",
              "4              0          0          0          0          0          0   \n",
              "...          ...        ...        ...        ...        ...        ...   \n",
              "38882          0          0          0          0          0          0   \n",
              "38883          0          0          0          0          0          0   \n",
              "38884          0          0          0          0          0          0   \n",
              "38885          0          0          0          0          0          0   \n",
              "38886          0          0          0          0          0          0   \n",
              "\n",
              "       pixel1023  pixel1024  Unnamed: 1027  \n",
              "0              0          0            NaN  \n",
              "1              0          0            NaN  \n",
              "2              0          0            NaN  \n",
              "3              0          0            NaN  \n",
              "4              0          0            NaN  \n",
              "...          ...        ...            ...  \n",
              "38882          0          0            NaN  \n",
              "38883          0          0            NaN  \n",
              "38884          0          0            NaN  \n",
              "38885          0          0            NaN  \n",
              "38886          0          0            NaN  \n",
              "\n",
              "[38887 rows x 1028 columns]"
            ],
            "text/html": [
              "\n",
              "  <div id=\"df-8279ed51-0c9b-4e61-8969-72c8251427d9\">\n",
              "    <div class=\"colab-df-container\">\n",
              "      <div>\n",
              "<style scoped>\n",
              "    .dataframe tbody tr th:only-of-type {\n",
              "        vertical-align: middle;\n",
              "    }\n",
              "\n",
              "    .dataframe tbody tr th {\n",
              "        vertical-align: top;\n",
              "    }\n",
              "\n",
              "    .dataframe thead th {\n",
              "        text-align: right;\n",
              "    }\n",
              "</style>\n",
              "<table border=\"1\" class=\"dataframe\">\n",
              "  <thead>\n",
              "    <tr style=\"text-align: right;\">\n",
              "      <th></th>\n",
              "      <th>filename</th>\n",
              "      <th>class</th>\n",
              "      <th>target</th>\n",
              "      <th>pixel1</th>\n",
              "      <th>pixel2</th>\n",
              "      <th>pixel3</th>\n",
              "      <th>pixel4</th>\n",
              "      <th>pixel5</th>\n",
              "      <th>pixel6</th>\n",
              "      <th>pixel7</th>\n",
              "      <th>...</th>\n",
              "      <th>pixel1016</th>\n",
              "      <th>pixel1017</th>\n",
              "      <th>pixel1018</th>\n",
              "      <th>pixel1019</th>\n",
              "      <th>pixel1020</th>\n",
              "      <th>pixel1021</th>\n",
              "      <th>pixel1022</th>\n",
              "      <th>pixel1023</th>\n",
              "      <th>pixel1024</th>\n",
              "      <th>Unnamed: 1027</th>\n",
              "    </tr>\n",
              "  </thead>\n",
              "  <tbody>\n",
              "    <tr>\n",
              "      <th>0</th>\n",
              "      <td>x86__64__lsb__unix-system-v__clang-3.8.0__O0__...</td>\n",
              "      <td>malware</td>\n",
              "      <td>1</td>\n",
              "      <td>85</td>\n",
              "      <td>17</td>\n",
              "      <td>34</td>\n",
              "      <td>34</td>\n",
              "      <td>0</td>\n",
              "      <td>17</td>\n",
              "      <td>17</td>\n",
              "      <td>...</td>\n",
              "      <td>0</td>\n",
              "      <td>0</td>\n",
              "      <td>0</td>\n",
              "      <td>0</td>\n",
              "      <td>0</td>\n",
              "      <td>0</td>\n",
              "      <td>0</td>\n",
              "      <td>0</td>\n",
              "      <td>0</td>\n",
              "      <td>NaN</td>\n",
              "    </tr>\n",
              "    <tr>\n",
              "      <th>1</th>\n",
              "      <td>x86__64__lsb__unix-system-v__clang-3.8.0__O0__...</td>\n",
              "      <td>malware</td>\n",
              "      <td>1</td>\n",
              "      <td>85</td>\n",
              "      <td>17</td>\n",
              "      <td>34</td>\n",
              "      <td>34</td>\n",
              "      <td>0</td>\n",
              "      <td>17</td>\n",
              "      <td>17</td>\n",
              "      <td>...</td>\n",
              "      <td>0</td>\n",
              "      <td>51</td>\n",
              "      <td>0</td>\n",
              "      <td>0</td>\n",
              "      <td>0</td>\n",
              "      <td>34</td>\n",
              "      <td>0</td>\n",
              "      <td>0</td>\n",
              "      <td>0</td>\n",
              "      <td>NaN</td>\n",
              "    </tr>\n",
              "    <tr>\n",
              "      <th>2</th>\n",
              "      <td>x86__64__lsb__unix-system-v__clang-3.8.0__O0__...</td>\n",
              "      <td>malware</td>\n",
              "      <td>1</td>\n",
              "      <td>85</td>\n",
              "      <td>17</td>\n",
              "      <td>34</td>\n",
              "      <td>34</td>\n",
              "      <td>0</td>\n",
              "      <td>17</td>\n",
              "      <td>17</td>\n",
              "      <td>...</td>\n",
              "      <td>0</td>\n",
              "      <td>0</td>\n",
              "      <td>0</td>\n",
              "      <td>0</td>\n",
              "      <td>0</td>\n",
              "      <td>0</td>\n",
              "      <td>0</td>\n",
              "      <td>0</td>\n",
              "      <td>0</td>\n",
              "      <td>NaN</td>\n",
              "    </tr>\n",
              "    <tr>\n",
              "      <th>3</th>\n",
              "      <td>x86__64__lsb__unix-system-v__clang-3.8.0__O0__...</td>\n",
              "      <td>malware</td>\n",
              "      <td>1</td>\n",
              "      <td>85</td>\n",
              "      <td>17</td>\n",
              "      <td>34</td>\n",
              "      <td>34</td>\n",
              "      <td>0</td>\n",
              "      <td>17</td>\n",
              "      <td>17</td>\n",
              "      <td>...</td>\n",
              "      <td>0</td>\n",
              "      <td>51</td>\n",
              "      <td>0</td>\n",
              "      <td>0</td>\n",
              "      <td>0</td>\n",
              "      <td>34</td>\n",
              "      <td>0</td>\n",
              "      <td>0</td>\n",
              "      <td>0</td>\n",
              "      <td>NaN</td>\n",
              "    </tr>\n",
              "    <tr>\n",
              "      <th>4</th>\n",
              "      <td>x86__64__lsb__unix-system-v__clang-3.8.0__O0__...</td>\n",
              "      <td>malware</td>\n",
              "      <td>1</td>\n",
              "      <td>85</td>\n",
              "      <td>17</td>\n",
              "      <td>34</td>\n",
              "      <td>34</td>\n",
              "      <td>0</td>\n",
              "      <td>17</td>\n",
              "      <td>17</td>\n",
              "      <td>...</td>\n",
              "      <td>0</td>\n",
              "      <td>0</td>\n",
              "      <td>0</td>\n",
              "      <td>0</td>\n",
              "      <td>0</td>\n",
              "      <td>0</td>\n",
              "      <td>0</td>\n",
              "      <td>0</td>\n",
              "      <td>0</td>\n",
              "      <td>NaN</td>\n",
              "    </tr>\n",
              "    <tr>\n",
              "      <th>...</th>\n",
              "      <td>...</td>\n",
              "      <td>...</td>\n",
              "      <td>...</td>\n",
              "      <td>...</td>\n",
              "      <td>...</td>\n",
              "      <td>...</td>\n",
              "      <td>...</td>\n",
              "      <td>...</td>\n",
              "      <td>...</td>\n",
              "      <td>...</td>\n",
              "      <td>...</td>\n",
              "      <td>...</td>\n",
              "      <td>...</td>\n",
              "      <td>...</td>\n",
              "      <td>...</td>\n",
              "      <td>...</td>\n",
              "      <td>...</td>\n",
              "      <td>...</td>\n",
              "      <td>...</td>\n",
              "      <td>...</td>\n",
              "      <td>...</td>\n",
              "    </tr>\n",
              "    <tr>\n",
              "      <th>38882</th>\n",
              "      <td>x86__64__lsb__unix-system-v__llvm-obfuscator-3...</td>\n",
              "      <td>benignware</td>\n",
              "      <td>0</td>\n",
              "      <td>85</td>\n",
              "      <td>17</td>\n",
              "      <td>34</td>\n",
              "      <td>34</td>\n",
              "      <td>0</td>\n",
              "      <td>17</td>\n",
              "      <td>17</td>\n",
              "      <td>...</td>\n",
              "      <td>0</td>\n",
              "      <td>0</td>\n",
              "      <td>0</td>\n",
              "      <td>0</td>\n",
              "      <td>0</td>\n",
              "      <td>0</td>\n",
              "      <td>0</td>\n",
              "      <td>0</td>\n",
              "      <td>0</td>\n",
              "      <td>NaN</td>\n",
              "    </tr>\n",
              "    <tr>\n",
              "      <th>38883</th>\n",
              "      <td>x86__64__lsb__unix-system-v__llvm-obfuscator-3...</td>\n",
              "      <td>benignware</td>\n",
              "      <td>0</td>\n",
              "      <td>85</td>\n",
              "      <td>17</td>\n",
              "      <td>34</td>\n",
              "      <td>34</td>\n",
              "      <td>0</td>\n",
              "      <td>17</td>\n",
              "      <td>17</td>\n",
              "      <td>...</td>\n",
              "      <td>0</td>\n",
              "      <td>0</td>\n",
              "      <td>0</td>\n",
              "      <td>0</td>\n",
              "      <td>0</td>\n",
              "      <td>0</td>\n",
              "      <td>0</td>\n",
              "      <td>0</td>\n",
              "      <td>0</td>\n",
              "      <td>NaN</td>\n",
              "    </tr>\n",
              "    <tr>\n",
              "      <th>38884</th>\n",
              "      <td>x86__64__lsb__unix-system-v__llvm-obfuscator-3...</td>\n",
              "      <td>benignware</td>\n",
              "      <td>0</td>\n",
              "      <td>85</td>\n",
              "      <td>17</td>\n",
              "      <td>34</td>\n",
              "      <td>34</td>\n",
              "      <td>0</td>\n",
              "      <td>17</td>\n",
              "      <td>17</td>\n",
              "      <td>...</td>\n",
              "      <td>0</td>\n",
              "      <td>0</td>\n",
              "      <td>0</td>\n",
              "      <td>0</td>\n",
              "      <td>0</td>\n",
              "      <td>0</td>\n",
              "      <td>0</td>\n",
              "      <td>0</td>\n",
              "      <td>0</td>\n",
              "      <td>NaN</td>\n",
              "    </tr>\n",
              "    <tr>\n",
              "      <th>38885</th>\n",
              "      <td>x86__64__lsb__unix-system-v__clang-3.9.0__O0__...</td>\n",
              "      <td>benignware</td>\n",
              "      <td>0</td>\n",
              "      <td>85</td>\n",
              "      <td>17</td>\n",
              "      <td>34</td>\n",
              "      <td>34</td>\n",
              "      <td>0</td>\n",
              "      <td>17</td>\n",
              "      <td>17</td>\n",
              "      <td>...</td>\n",
              "      <td>0</td>\n",
              "      <td>0</td>\n",
              "      <td>0</td>\n",
              "      <td>0</td>\n",
              "      <td>0</td>\n",
              "      <td>0</td>\n",
              "      <td>0</td>\n",
              "      <td>0</td>\n",
              "      <td>0</td>\n",
              "      <td>NaN</td>\n",
              "    </tr>\n",
              "    <tr>\n",
              "      <th>38886</th>\n",
              "      <td>x86__64__lsb__unix-system-v__llvm-obfuscator-4...</td>\n",
              "      <td>benignware</td>\n",
              "      <td>0</td>\n",
              "      <td>85</td>\n",
              "      <td>17</td>\n",
              "      <td>34</td>\n",
              "      <td>34</td>\n",
              "      <td>0</td>\n",
              "      <td>17</td>\n",
              "      <td>17</td>\n",
              "      <td>...</td>\n",
              "      <td>0</td>\n",
              "      <td>0</td>\n",
              "      <td>0</td>\n",
              "      <td>0</td>\n",
              "      <td>0</td>\n",
              "      <td>0</td>\n",
              "      <td>0</td>\n",
              "      <td>0</td>\n",
              "      <td>0</td>\n",
              "      <td>NaN</td>\n",
              "    </tr>\n",
              "  </tbody>\n",
              "</table>\n",
              "<p>38887 rows × 1028 columns</p>\n",
              "</div>\n",
              "      <button class=\"colab-df-convert\" onclick=\"convertToInteractive('df-8279ed51-0c9b-4e61-8969-72c8251427d9')\"\n",
              "              title=\"Convert this dataframe to an interactive table.\"\n",
              "              style=\"display:none;\">\n",
              "        \n",
              "  <svg xmlns=\"http://www.w3.org/2000/svg\" height=\"24px\"viewBox=\"0 0 24 24\"\n",
              "       width=\"24px\">\n",
              "    <path d=\"M0 0h24v24H0V0z\" fill=\"none\"/>\n",
              "    <path d=\"M18.56 5.44l.94 2.06.94-2.06 2.06-.94-2.06-.94-.94-2.06-.94 2.06-2.06.94zm-11 1L8.5 8.5l.94-2.06 2.06-.94-2.06-.94L8.5 2.5l-.94 2.06-2.06.94zm10 10l.94 2.06.94-2.06 2.06-.94-2.06-.94-.94-2.06-.94 2.06-2.06.94z\"/><path d=\"M17.41 7.96l-1.37-1.37c-.4-.4-.92-.59-1.43-.59-.52 0-1.04.2-1.43.59L10.3 9.45l-7.72 7.72c-.78.78-.78 2.05 0 2.83L4 21.41c.39.39.9.59 1.41.59.51 0 1.02-.2 1.41-.59l7.78-7.78 2.81-2.81c.8-.78.8-2.07 0-2.86zM5.41 20L4 18.59l7.72-7.72 1.47 1.35L5.41 20z\"/>\n",
              "  </svg>\n",
              "      </button>\n",
              "      \n",
              "  <style>\n",
              "    .colab-df-container {\n",
              "      display:flex;\n",
              "      flex-wrap:wrap;\n",
              "      gap: 12px;\n",
              "    }\n",
              "\n",
              "    .colab-df-convert {\n",
              "      background-color: #E8F0FE;\n",
              "      border: none;\n",
              "      border-radius: 50%;\n",
              "      cursor: pointer;\n",
              "      display: none;\n",
              "      fill: #1967D2;\n",
              "      height: 32px;\n",
              "      padding: 0 0 0 0;\n",
              "      width: 32px;\n",
              "    }\n",
              "\n",
              "    .colab-df-convert:hover {\n",
              "      background-color: #E2EBFA;\n",
              "      box-shadow: 0px 1px 2px rgba(60, 64, 67, 0.3), 0px 1px 3px 1px rgba(60, 64, 67, 0.15);\n",
              "      fill: #174EA6;\n",
              "    }\n",
              "\n",
              "    [theme=dark] .colab-df-convert {\n",
              "      background-color: #3B4455;\n",
              "      fill: #D2E3FC;\n",
              "    }\n",
              "\n",
              "    [theme=dark] .colab-df-convert:hover {\n",
              "      background-color: #434B5C;\n",
              "      box-shadow: 0px 1px 3px 1px rgba(0, 0, 0, 0.15);\n",
              "      filter: drop-shadow(0px 1px 2px rgba(0, 0, 0, 0.3));\n",
              "      fill: #FFFFFF;\n",
              "    }\n",
              "  </style>\n",
              "\n",
              "      <script>\n",
              "        const buttonEl =\n",
              "          document.querySelector('#df-8279ed51-0c9b-4e61-8969-72c8251427d9 button.colab-df-convert');\n",
              "        buttonEl.style.display =\n",
              "          google.colab.kernel.accessAllowed ? 'block' : 'none';\n",
              "\n",
              "        async function convertToInteractive(key) {\n",
              "          const element = document.querySelector('#df-8279ed51-0c9b-4e61-8969-72c8251427d9');\n",
              "          const dataTable =\n",
              "            await google.colab.kernel.invokeFunction('convertToInteractive',\n",
              "                                                     [key], {});\n",
              "          if (!dataTable) return;\n",
              "\n",
              "          const docLinkHtml = 'Like what you see? Visit the ' +\n",
              "            '<a target=\"_blank\" href=https://colab.research.google.com/notebooks/data_table.ipynb>data table notebook</a>'\n",
              "            + ' to learn more about interactive tables.';\n",
              "          element.innerHTML = '';\n",
              "          dataTable['output_type'] = 'display_data';\n",
              "          await google.colab.output.renderOutput(dataTable, element);\n",
              "          const docLink = document.createElement('div');\n",
              "          docLink.innerHTML = docLinkHtml;\n",
              "          element.appendChild(docLink);\n",
              "        }\n",
              "      </script>\n",
              "    </div>\n",
              "  </div>\n",
              "  "
            ]
          },
          "metadata": {},
          "execution_count": 5
        }
      ]
    },
    {
      "cell_type": "code",
      "source": [
        "len(df0)"
      ],
      "metadata": {
        "colab": {
          "base_uri": "https://localhost:8080/"
        },
        "id": "gBFbW1QPOo-h",
        "outputId": "b017c02e-f638-428b-884c-349439555721"
      },
      "execution_count": null,
      "outputs": [
        {
          "output_type": "execute_result",
          "data": {
            "text/plain": [
              "38887"
            ]
          },
          "metadata": {},
          "execution_count": 6
        }
      ]
    },
    {
      "cell_type": "code",
      "source": [
        " df0.iloc[[334]]  # DataFrame result"
      ],
      "metadata": {
        "colab": {
          "base_uri": "https://localhost:8080/",
          "height": 226
        },
        "id": "-H4DbfM-Os4F",
        "outputId": "a4eec47a-ee44-47e1-d0e5-ca740955fabc"
      },
      "execution_count": null,
      "outputs": [
        {
          "output_type": "execute_result",
          "data": {
            "text/plain": [
              "                                              filename    class  target  \\\n",
              "334  x86__64__lsb__unix-system-v__gcc-4.9.4__Os__no...  malware       1   \n",
              "\n",
              "     pixel1  pixel2  pixel3  pixel4  pixel5  pixel6  pixel7  ...  pixel1016  \\\n",
              "334      85      17      34      34       0      17      17  ...          0   \n",
              "\n",
              "     pixel1017  pixel1018  pixel1019  pixel1020  pixel1021  pixel1022  \\\n",
              "334          0          0          0          0          0          0   \n",
              "\n",
              "     pixel1023  pixel1024  Unnamed: 1027  \n",
              "334          0          0            NaN  \n",
              "\n",
              "[1 rows x 1028 columns]"
            ],
            "text/html": [
              "\n",
              "  <div id=\"df-e80ae7d4-baf7-48b5-811f-aa4c58dff229\">\n",
              "    <div class=\"colab-df-container\">\n",
              "      <div>\n",
              "<style scoped>\n",
              "    .dataframe tbody tr th:only-of-type {\n",
              "        vertical-align: middle;\n",
              "    }\n",
              "\n",
              "    .dataframe tbody tr th {\n",
              "        vertical-align: top;\n",
              "    }\n",
              "\n",
              "    .dataframe thead th {\n",
              "        text-align: right;\n",
              "    }\n",
              "</style>\n",
              "<table border=\"1\" class=\"dataframe\">\n",
              "  <thead>\n",
              "    <tr style=\"text-align: right;\">\n",
              "      <th></th>\n",
              "      <th>filename</th>\n",
              "      <th>class</th>\n",
              "      <th>target</th>\n",
              "      <th>pixel1</th>\n",
              "      <th>pixel2</th>\n",
              "      <th>pixel3</th>\n",
              "      <th>pixel4</th>\n",
              "      <th>pixel5</th>\n",
              "      <th>pixel6</th>\n",
              "      <th>pixel7</th>\n",
              "      <th>...</th>\n",
              "      <th>pixel1016</th>\n",
              "      <th>pixel1017</th>\n",
              "      <th>pixel1018</th>\n",
              "      <th>pixel1019</th>\n",
              "      <th>pixel1020</th>\n",
              "      <th>pixel1021</th>\n",
              "      <th>pixel1022</th>\n",
              "      <th>pixel1023</th>\n",
              "      <th>pixel1024</th>\n",
              "      <th>Unnamed: 1027</th>\n",
              "    </tr>\n",
              "  </thead>\n",
              "  <tbody>\n",
              "    <tr>\n",
              "      <th>334</th>\n",
              "      <td>x86__64__lsb__unix-system-v__gcc-4.9.4__Os__no...</td>\n",
              "      <td>malware</td>\n",
              "      <td>1</td>\n",
              "      <td>85</td>\n",
              "      <td>17</td>\n",
              "      <td>34</td>\n",
              "      <td>34</td>\n",
              "      <td>0</td>\n",
              "      <td>17</td>\n",
              "      <td>17</td>\n",
              "      <td>...</td>\n",
              "      <td>0</td>\n",
              "      <td>0</td>\n",
              "      <td>0</td>\n",
              "      <td>0</td>\n",
              "      <td>0</td>\n",
              "      <td>0</td>\n",
              "      <td>0</td>\n",
              "      <td>0</td>\n",
              "      <td>0</td>\n",
              "      <td>NaN</td>\n",
              "    </tr>\n",
              "  </tbody>\n",
              "</table>\n",
              "<p>1 rows × 1028 columns</p>\n",
              "</div>\n",
              "      <button class=\"colab-df-convert\" onclick=\"convertToInteractive('df-e80ae7d4-baf7-48b5-811f-aa4c58dff229')\"\n",
              "              title=\"Convert this dataframe to an interactive table.\"\n",
              "              style=\"display:none;\">\n",
              "        \n",
              "  <svg xmlns=\"http://www.w3.org/2000/svg\" height=\"24px\"viewBox=\"0 0 24 24\"\n",
              "       width=\"24px\">\n",
              "    <path d=\"M0 0h24v24H0V0z\" fill=\"none\"/>\n",
              "    <path d=\"M18.56 5.44l.94 2.06.94-2.06 2.06-.94-2.06-.94-.94-2.06-.94 2.06-2.06.94zm-11 1L8.5 8.5l.94-2.06 2.06-.94-2.06-.94L8.5 2.5l-.94 2.06-2.06.94zm10 10l.94 2.06.94-2.06 2.06-.94-2.06-.94-.94-2.06-.94 2.06-2.06.94z\"/><path d=\"M17.41 7.96l-1.37-1.37c-.4-.4-.92-.59-1.43-.59-.52 0-1.04.2-1.43.59L10.3 9.45l-7.72 7.72c-.78.78-.78 2.05 0 2.83L4 21.41c.39.39.9.59 1.41.59.51 0 1.02-.2 1.41-.59l7.78-7.78 2.81-2.81c.8-.78.8-2.07 0-2.86zM5.41 20L4 18.59l7.72-7.72 1.47 1.35L5.41 20z\"/>\n",
              "  </svg>\n",
              "      </button>\n",
              "      \n",
              "  <style>\n",
              "    .colab-df-container {\n",
              "      display:flex;\n",
              "      flex-wrap:wrap;\n",
              "      gap: 12px;\n",
              "    }\n",
              "\n",
              "    .colab-df-convert {\n",
              "      background-color: #E8F0FE;\n",
              "      border: none;\n",
              "      border-radius: 50%;\n",
              "      cursor: pointer;\n",
              "      display: none;\n",
              "      fill: #1967D2;\n",
              "      height: 32px;\n",
              "      padding: 0 0 0 0;\n",
              "      width: 32px;\n",
              "    }\n",
              "\n",
              "    .colab-df-convert:hover {\n",
              "      background-color: #E2EBFA;\n",
              "      box-shadow: 0px 1px 2px rgba(60, 64, 67, 0.3), 0px 1px 3px 1px rgba(60, 64, 67, 0.15);\n",
              "      fill: #174EA6;\n",
              "    }\n",
              "\n",
              "    [theme=dark] .colab-df-convert {\n",
              "      background-color: #3B4455;\n",
              "      fill: #D2E3FC;\n",
              "    }\n",
              "\n",
              "    [theme=dark] .colab-df-convert:hover {\n",
              "      background-color: #434B5C;\n",
              "      box-shadow: 0px 1px 3px 1px rgba(0, 0, 0, 0.15);\n",
              "      filter: drop-shadow(0px 1px 2px rgba(0, 0, 0, 0.3));\n",
              "      fill: #FFFFFF;\n",
              "    }\n",
              "  </style>\n",
              "\n",
              "      <script>\n",
              "        const buttonEl =\n",
              "          document.querySelector('#df-e80ae7d4-baf7-48b5-811f-aa4c58dff229 button.colab-df-convert');\n",
              "        buttonEl.style.display =\n",
              "          google.colab.kernel.accessAllowed ? 'block' : 'none';\n",
              "\n",
              "        async function convertToInteractive(key) {\n",
              "          const element = document.querySelector('#df-e80ae7d4-baf7-48b5-811f-aa4c58dff229');\n",
              "          const dataTable =\n",
              "            await google.colab.kernel.invokeFunction('convertToInteractive',\n",
              "                                                     [key], {});\n",
              "          if (!dataTable) return;\n",
              "\n",
              "          const docLinkHtml = 'Like what you see? Visit the ' +\n",
              "            '<a target=\"_blank\" href=https://colab.research.google.com/notebooks/data_table.ipynb>data table notebook</a>'\n",
              "            + ' to learn more about interactive tables.';\n",
              "          element.innerHTML = '';\n",
              "          dataTable['output_type'] = 'display_data';\n",
              "          await google.colab.output.renderOutput(dataTable, element);\n",
              "          const docLink = document.createElement('div');\n",
              "          docLink.innerHTML = docLinkHtml;\n",
              "          element.appendChild(docLink);\n",
              "        }\n",
              "      </script>\n",
              "    </div>\n",
              "  </div>\n",
              "  "
            ]
          },
          "metadata": {},
          "execution_count": 7
        }
      ]
    },
    {
      "cell_type": "code",
      "source": [
        "X = []\n",
        "y = []"
      ],
      "metadata": {
        "id": "ro1UEuP3Ozjx"
      },
      "execution_count": null,
      "outputs": []
    },
    {
      "cell_type": "code",
      "source": [
        "X = df0.iloc[:, 0].values\n",
        "y = df0.iloc[:, 1].values"
      ],
      "metadata": {
        "id": "1cG4HoPQO2X6"
      },
      "execution_count": null,
      "outputs": []
    },
    {
      "cell_type": "code",
      "source": [
        "df1 = pd.DataFrame(\n",
        "    {'file_name': X,\n",
        "     'class_name': y })"
      ],
      "metadata": {
        "id": "DZs2tlqaO55y"
      },
      "execution_count": null,
      "outputs": []
    },
    {
      "cell_type": "code",
      "source": [
        "df1.head(3)"
      ],
      "metadata": {
        "colab": {
          "base_uri": "https://localhost:8080/",
          "height": 143
        },
        "id": "7ijO_zNaO7cr",
        "outputId": "3d5191ff-9f42-4e1a-f5ce-33b178971ade"
      },
      "execution_count": null,
      "outputs": [
        {
          "output_type": "execute_result",
          "data": {
            "text/plain": [
              "                                           file_name class_name\n",
              "0  x86__64__lsb__unix-system-v__clang-3.8.0__O0__...    malware\n",
              "1  x86__64__lsb__unix-system-v__clang-3.8.0__O0__...    malware\n",
              "2  x86__64__lsb__unix-system-v__clang-3.8.0__O0__...    malware"
            ],
            "text/html": [
              "\n",
              "  <div id=\"df-63f91feb-ce90-4bfd-9e38-74807ddbdbd9\">\n",
              "    <div class=\"colab-df-container\">\n",
              "      <div>\n",
              "<style scoped>\n",
              "    .dataframe tbody tr th:only-of-type {\n",
              "        vertical-align: middle;\n",
              "    }\n",
              "\n",
              "    .dataframe tbody tr th {\n",
              "        vertical-align: top;\n",
              "    }\n",
              "\n",
              "    .dataframe thead th {\n",
              "        text-align: right;\n",
              "    }\n",
              "</style>\n",
              "<table border=\"1\" class=\"dataframe\">\n",
              "  <thead>\n",
              "    <tr style=\"text-align: right;\">\n",
              "      <th></th>\n",
              "      <th>file_name</th>\n",
              "      <th>class_name</th>\n",
              "    </tr>\n",
              "  </thead>\n",
              "  <tbody>\n",
              "    <tr>\n",
              "      <th>0</th>\n",
              "      <td>x86__64__lsb__unix-system-v__clang-3.8.0__O0__...</td>\n",
              "      <td>malware</td>\n",
              "    </tr>\n",
              "    <tr>\n",
              "      <th>1</th>\n",
              "      <td>x86__64__lsb__unix-system-v__clang-3.8.0__O0__...</td>\n",
              "      <td>malware</td>\n",
              "    </tr>\n",
              "    <tr>\n",
              "      <th>2</th>\n",
              "      <td>x86__64__lsb__unix-system-v__clang-3.8.0__O0__...</td>\n",
              "      <td>malware</td>\n",
              "    </tr>\n",
              "  </tbody>\n",
              "</table>\n",
              "</div>\n",
              "      <button class=\"colab-df-convert\" onclick=\"convertToInteractive('df-63f91feb-ce90-4bfd-9e38-74807ddbdbd9')\"\n",
              "              title=\"Convert this dataframe to an interactive table.\"\n",
              "              style=\"display:none;\">\n",
              "        \n",
              "  <svg xmlns=\"http://www.w3.org/2000/svg\" height=\"24px\"viewBox=\"0 0 24 24\"\n",
              "       width=\"24px\">\n",
              "    <path d=\"M0 0h24v24H0V0z\" fill=\"none\"/>\n",
              "    <path d=\"M18.56 5.44l.94 2.06.94-2.06 2.06-.94-2.06-.94-.94-2.06-.94 2.06-2.06.94zm-11 1L8.5 8.5l.94-2.06 2.06-.94-2.06-.94L8.5 2.5l-.94 2.06-2.06.94zm10 10l.94 2.06.94-2.06 2.06-.94-2.06-.94-.94-2.06-.94 2.06-2.06.94z\"/><path d=\"M17.41 7.96l-1.37-1.37c-.4-.4-.92-.59-1.43-.59-.52 0-1.04.2-1.43.59L10.3 9.45l-7.72 7.72c-.78.78-.78 2.05 0 2.83L4 21.41c.39.39.9.59 1.41.59.51 0 1.02-.2 1.41-.59l7.78-7.78 2.81-2.81c.8-.78.8-2.07 0-2.86zM5.41 20L4 18.59l7.72-7.72 1.47 1.35L5.41 20z\"/>\n",
              "  </svg>\n",
              "      </button>\n",
              "      \n",
              "  <style>\n",
              "    .colab-df-container {\n",
              "      display:flex;\n",
              "      flex-wrap:wrap;\n",
              "      gap: 12px;\n",
              "    }\n",
              "\n",
              "    .colab-df-convert {\n",
              "      background-color: #E8F0FE;\n",
              "      border: none;\n",
              "      border-radius: 50%;\n",
              "      cursor: pointer;\n",
              "      display: none;\n",
              "      fill: #1967D2;\n",
              "      height: 32px;\n",
              "      padding: 0 0 0 0;\n",
              "      width: 32px;\n",
              "    }\n",
              "\n",
              "    .colab-df-convert:hover {\n",
              "      background-color: #E2EBFA;\n",
              "      box-shadow: 0px 1px 2px rgba(60, 64, 67, 0.3), 0px 1px 3px 1px rgba(60, 64, 67, 0.15);\n",
              "      fill: #174EA6;\n",
              "    }\n",
              "\n",
              "    [theme=dark] .colab-df-convert {\n",
              "      background-color: #3B4455;\n",
              "      fill: #D2E3FC;\n",
              "    }\n",
              "\n",
              "    [theme=dark] .colab-df-convert:hover {\n",
              "      background-color: #434B5C;\n",
              "      box-shadow: 0px 1px 3px 1px rgba(0, 0, 0, 0.15);\n",
              "      filter: drop-shadow(0px 1px 2px rgba(0, 0, 0, 0.3));\n",
              "      fill: #FFFFFF;\n",
              "    }\n",
              "  </style>\n",
              "\n",
              "      <script>\n",
              "        const buttonEl =\n",
              "          document.querySelector('#df-63f91feb-ce90-4bfd-9e38-74807ddbdbd9 button.colab-df-convert');\n",
              "        buttonEl.style.display =\n",
              "          google.colab.kernel.accessAllowed ? 'block' : 'none';\n",
              "\n",
              "        async function convertToInteractive(key) {\n",
              "          const element = document.querySelector('#df-63f91feb-ce90-4bfd-9e38-74807ddbdbd9');\n",
              "          const dataTable =\n",
              "            await google.colab.kernel.invokeFunction('convertToInteractive',\n",
              "                                                     [key], {});\n",
              "          if (!dataTable) return;\n",
              "\n",
              "          const docLinkHtml = 'Like what you see? Visit the ' +\n",
              "            '<a target=\"_blank\" href=https://colab.research.google.com/notebooks/data_table.ipynb>data table notebook</a>'\n",
              "            + ' to learn more about interactive tables.';\n",
              "          element.innerHTML = '';\n",
              "          dataTable['output_type'] = 'display_data';\n",
              "          await google.colab.output.renderOutput(dataTable, element);\n",
              "          const docLink = document.createElement('div');\n",
              "          docLink.innerHTML = docLinkHtml;\n",
              "          element.appendChild(docLink);\n",
              "        }\n",
              "      </script>\n",
              "    </div>\n",
              "  </div>\n",
              "  "
            ]
          },
          "metadata": {},
          "execution_count": 11
        }
      ]
    },
    {
      "cell_type": "code",
      "source": [
        "data_dir = '/content/drive/MyDrive/4.2 Rukaiya/assignment2Data/imagery'"
      ],
      "metadata": {
        "id": "aAUZAdlXQY1Y"
      },
      "execution_count": null,
      "outputs": []
    },
    {
      "cell_type": "markdown",
      "source": [
        ""
      ],
      "metadata": {
        "id": "oC8RtFxN6MMd"
      }
    },
    {
      "cell_type": "code",
      "source": [
        "transform = transforms.Compose([\n",
        "                  transforms.Grayscale(num_output_channels=1),\n",
        "                  transforms.Resize((32, 32)), \n",
        "                  transforms.Normalize(.5, .5),\n",
        "                  transforms.ToTensor(),])"
      ],
      "metadata": {
        "id": "DpJyKueb62kb"
      },
      "execution_count": null,
      "outputs": []
    },
    {
      "cell_type": "code",
      "source": [
        "dataset = ImageFolder(data_dir, transform=transform)\n",
        "print(dataset)"
      ],
      "metadata": {
        "id": "12Q2UvJwQIJD",
        "colab": {
          "base_uri": "https://localhost:8080/"
        },
        "outputId": "f3415711-a594-4e5f-9ded-103d5ab495e8"
      },
      "execution_count": null,
      "outputs": [
        {
          "output_type": "stream",
          "name": "stdout",
          "text": [
            "Dataset ImageFolder\n",
            "    Number of datapoints: 4482\n",
            "    Root location: /content/drive/MyDrive/4.2 Rukaiya/assignment2Data/imagery\n",
            "    StandardTransform\n",
            "Transform: Compose(\n",
            "               Grayscale(num_output_channels=1)\n",
            "               Resize(size=(32, 32), interpolation=bilinear, max_size=None, antialias=None)\n",
            "               Normalize(mean=0.5, std=0.5)\n",
            "               ToTensor()\n",
            "           )\n"
          ]
        }
      ]
    },
    {
      "cell_type": "code",
      "source": [
        "random_seed = 4\n",
        "torch.manual_seed(random_seed);\n",
        "test_size = math.floor(0.2 * len(dataset))\n",
        "val_size = math.floor(0.15 * len(dataset))\n",
        "train_size = len(dataset) - val_size - test_size\n",
        "train_dataset, val_dataset, test_dataset = random_split(dataset, [train_size, val_size, test_size])\n",
        "len(train_dataset), len(val_dataset), len(test_dataset)"
      ],
      "metadata": {
        "id": "rpm1MZCOQ7zl",
        "colab": {
          "base_uri": "https://localhost:8080/"
        },
        "outputId": "ded3a079-a75d-4306-f1bd-7269155ebbe8"
      },
      "execution_count": null,
      "outputs": [
        {
          "output_type": "execute_result",
          "data": {
            "text/plain": [
              "(2914, 672, 896)"
            ]
          },
          "metadata": {},
          "execution_count": 16
        }
      ]
    },
    {
      "cell_type": "code",
      "source": [
        "#Hyper parameters\n",
        "input_size = 32*32\n",
        "hidden_size = 100\n",
        "num_classes = 4\n",
        "batch_size = 20\n",
        "num_epochs = 200\n",
        "lr = 0.001"
      ],
      "metadata": {
        "id": "_N8OEwwhRWli"
      },
      "execution_count": null,
      "outputs": []
    },
    {
      "cell_type": "code",
      "source": [
        "def accuracy(outputs, labels):\n",
        "  metric = torchmetrics.Accuracy()\n",
        "  metric = metric.cuda()\n",
        "  return metric(outputs, labels)\n",
        "\n",
        "def precision(outputs, labels):\n",
        "  metric = torchmetrics.Precision(average='macro', num_classes=4)\n",
        "  metric = metric.cuda()\n",
        "  return metric(outputs, labels)\n",
        "\n",
        "def recall(outputs, labels):\n",
        "  metric = torchmetrics.Recall(average='macro', num_classes=4)\n",
        "  metric = metric.cuda()\n",
        "  return metric(outputs, labels)\n",
        "\n",
        "def f1_score(outputs, labels):\n",
        "  pr = precision(outputs, labels)\n",
        "  re = recall(outputs, labels)\n",
        "  return 2 * pr * re / (pr + re)"
      ],
      "metadata": {
        "id": "fi3CwhEhR4WX"
      },
      "execution_count": null,
      "outputs": []
    },
    {
      "cell_type": "code",
      "source": [
        "import torch.nn as nn\n",
        "import torch.nn.functional as F\n",
        "class NNet(nn.Module):\n",
        "    def __init__(self, in_size, hidden_size, out_size):\n",
        "        super().__init__()\n",
        "        self.layer_1 = nn.Linear(in_size, hidden_size)\n",
        "        self.layer_2 = nn.Linear(hidden_size, hidden_size)\n",
        "        self.layer_3 = nn.Linear(hidden_size, hidden_size)\n",
        "        self.layer_4 = nn.Linear(hidden_size, hidden_size)\n",
        "        self.layer_5 = nn.Linear(hidden_size, hidden_size)\n",
        "        self.layer_6 = nn.Linear(hidden_size, out_size)\n",
        "        \n",
        "    def forward(self, x):\n",
        "        # Flatten the image tensors\n",
        "        x = x.view(x.size(0), -1)\n",
        "        \n",
        "        out = self.layer_1(x)\n",
        "        out = F.relu(out)\n",
        "        out = self.layer_2(out)\n",
        "        out = F.relu(out)\n",
        "        out = self.layer_3(out)\n",
        "        out = F.relu(out)\n",
        "        out = self.layer_4(out)\n",
        "        out = F.relu(out)\n",
        "        out = self.layer_5(out)\n",
        "        out = F.relu(out)\n",
        "        out = self.layer_6(out)\n",
        "        return out\n",
        "    \n",
        "\n",
        "    def training_step(self, batch):\n",
        "        images, labels = batch \n",
        "        out = self(images)                  \n",
        "        loss = F.cross_entropy(out, labels) \n",
        "        return loss\n",
        "    \n",
        "\n",
        "    def validation_step(self, batch):\n",
        "        images, labels = batch \n",
        "        out = self(images)                   \n",
        "        loss = F.cross_entropy(out, labels)  \n",
        "        acc = accuracy(out, labels)           \n",
        "        prec = precision(out, labels)\n",
        "        rec = recall(out, labels)\n",
        "        f1 = f1_score(out, labels)\n",
        "        return {'val_loss':loss, 'val_acc': acc, 'val_recall': rec, 'val_precision': prec, 'val_f1': f1}\n",
        "        \n",
        "\n",
        "    def validation_epoch_end(self, outputs):\n",
        "        batch_losses = [x['val_loss'] for x in outputs]\n",
        "        epoch_loss = torch.stack(batch_losses).mean()\n",
        "        batch_accs = [x['val_acc'] for x in outputs]\n",
        "        epoch_acc = torch.stack(batch_accs).mean()  \n",
        "        batch_recall = [x['val_recall'] for x in outputs]\n",
        "        epoch_recall = torch.stack(batch_recall).mean()  \n",
        "        batch_precision = [x['val_precision'] for x in outputs]\n",
        "        epoch_precision = torch.stack(batch_precision).mean()  \n",
        "        batch_f1 = [x['val_f1'] for x in outputs]\n",
        "        epoch_f1 = torch.stack(batch_f1).mean()     \n",
        "        return {'val_loss': epoch_loss.item(), 'val_acc': epoch_acc.item(), 'val_recall': epoch_recall.item(), 'val_precision': epoch_precision.item(), 'val_f1': epoch_f1.item()}\n",
        "    \n",
        "    def epoch_end(self, epoch, result):\n",
        "        print(\"Epoch [{}], val_loss: {}, val_acc: {}, val_recall: {}, val_precision: {}, val_f1: {}\".format(epoch, result['val_loss'], result['val_acc'], result['val_recall'], result['val_precision'], result['val_f1']))"
      ],
      "metadata": {
        "id": "Tq3UT6WTRPXH"
      },
      "execution_count": null,
      "outputs": []
    },
    {
      "cell_type": "code",
      "source": [
        "def get_default_device():\n",
        "    \"\"\"Pick GPU if available, else CPU\"\"\"\n",
        "    if torch.cuda.is_available():\n",
        "        return torch.device('cuda')\n",
        "    else:\n",
        "        return torch.device('cpu')\n",
        "    \n",
        "def to_device(data, device):\n",
        "    \"\"\"Move tensor(s) to chosen device\"\"\"\n",
        "    if isinstance(data, (list,tuple)):\n",
        "        return [to_device(x, device) for x in data]\n",
        "    return data.to(device, non_blocking=True)\n",
        "\n",
        "class DeviceDataLoader():\n",
        "    \"\"\"Wrap a dataloader to move data to a device\"\"\"\n",
        "    def __init__(self, dl, device):\n",
        "        self.dl = dl\n",
        "        self.device = device\n",
        "        \n",
        "    def __iter__(self):\n",
        "        \"\"\"Yield a batch of data after moving it to device\"\"\"\n",
        "        for b in self.dl: \n",
        "            yield to_device(b, self.device)\n",
        "\n",
        "    def __len__(self):\n",
        "        \"\"\"Number of batches\"\"\"\n",
        "        return len(self.dl)"
      ],
      "metadata": {
        "id": "VHrzdYCDRaYW"
      },
      "execution_count": null,
      "outputs": []
    },
    {
      "cell_type": "code",
      "source": [
        "device = get_default_device()\n",
        "device"
      ],
      "metadata": {
        "id": "YClNPfbfRcLM",
        "colab": {
          "base_uri": "https://localhost:8080/"
        },
        "outputId": "b2716a71-f310-4a03-cfd8-18a42fd9fb3c"
      },
      "execution_count": null,
      "outputs": [
        {
          "output_type": "execute_result",
          "data": {
            "text/plain": [
              "device(type='cuda')"
            ]
          },
          "metadata": {},
          "execution_count": 21
        }
      ]
    },
    {
      "cell_type": "code",
      "source": [
        "train_dataloader = DataLoader(train_dataset, batch_size, shuffle=True)\n",
        "validation_dataloader = DataLoader(val_dataset, batch_size)\n",
        "test_dataloader = DataLoader(test_dataset, batch_size)\n",
        "model = NNet(input_size, hidden_size, out_size=num_classes)\n",
        "\n",
        "\n",
        "# Moving the model and datasets\n",
        "to_device(model, device)\n",
        "train_dataloader = DeviceDataLoader(train_dataloader, device)\n",
        "validation_dataloader = DeviceDataLoader(validation_dataloader, device)\n",
        "test_dataloader = DeviceDataLoader(test_dataloader, device)"
      ],
      "metadata": {
        "id": "qJnPSG6XvEwv"
      },
      "execution_count": null,
      "outputs": []
    },
    {
      "cell_type": "code",
      "source": [
        "@torch.no_grad()\n",
        "def evaluate(model, val_loader):\n",
        "    model.eval()\n",
        "    outputs = [model.validation_step(batch) for batch in val_loader]\n",
        "    return model.validation_epoch_end(outputs)\n",
        "\n",
        "def fit(epochs, lr, model, train_loader, val_loader, opt_func=torch.optim.SGD):\n",
        "    history = []\n",
        "    optimizer = opt_func(model.parameters(), lr)\n",
        "    for epoch in range(epochs):\n",
        "        model.train()\n",
        "        train_losses = []\n",
        "        for batch in train_loader:\n",
        "            loss = model.training_step(batch)\n",
        "            train_losses.append(loss)\n",
        "            loss.backward()\n",
        "            optimizer.step()\n",
        "            optimizer.zero_grad()\n",
        "        \n",
        "        result = evaluate(model, val_loader)\n",
        "        result['train_loss'] = torch.stack(train_losses).mean().item()\n",
        "        model.epoch_end(epoch, result)\n",
        "        history.append(result)\n",
        "    return history"
      ],
      "metadata": {
        "id": "JAqe2nAtRfjW"
      },
      "execution_count": null,
      "outputs": []
    },
    {
      "cell_type": "code",
      "source": [
        "model = NNet(input_size, hidden_size, out_size=num_classes)\n",
        "model.to(device)"
      ],
      "metadata": {
        "id": "6H6vrlJURoRZ",
        "colab": {
          "base_uri": "https://localhost:8080/"
        },
        "outputId": "c8b71a99-f221-42a8-af3e-9e2513d54bcf"
      },
      "execution_count": null,
      "outputs": [
        {
          "output_type": "execute_result",
          "data": {
            "text/plain": [
              "NNet(\n",
              "  (layer_1): Linear(in_features=1024, out_features=100, bias=True)\n",
              "  (layer_2): Linear(in_features=100, out_features=100, bias=True)\n",
              "  (layer_3): Linear(in_features=100, out_features=100, bias=True)\n",
              "  (layer_4): Linear(in_features=100, out_features=100, bias=True)\n",
              "  (layer_5): Linear(in_features=100, out_features=100, bias=True)\n",
              "  (layer_6): Linear(in_features=100, out_features=4, bias=True)\n",
              ")"
            ]
          },
          "metadata": {},
          "execution_count": 24
        }
      ]
    },
    {
      "cell_type": "code",
      "source": [
        "history = fit(num_epochs, model, train_dataloader, lr, validation_dataloader)"
      ],
      "metadata": {
        "id": "6BFwpxx5RqDf",
        "colab": {
          "base_uri": "https://localhost:8080/"
        },
        "outputId": "f841d736-14ac-4509-e260-fd30f7cc8edc"
      },
      "execution_count": null,
      "outputs": [
        {
          "output_type": "stream",
          "name": "stdout",
          "text": [
            "Epoch [0], val_loss: 1.3674, val_acc: 0.1426, val_recall: 0.2549, val_precision: 0.0411, val_f1: nan\n",
            "Epoch [1], val_loss: 1.3230, val_acc: 0.6627, val_recall: 0.3137, val_precision: 0.2127, val_f1: 0.2517\n",
            "Epoch [2], val_loss: 1.2835, val_acc: 0.6627, val_recall: 0.3137, val_precision: 0.2127, val_f1: 0.2517\n",
            "Epoch [3], val_loss: 1.2472, val_acc: 0.6627, val_recall: 0.3137, val_precision: 0.2127, val_f1: 0.2517\n",
            "Epoch [4], val_loss: 1.2141, val_acc: 0.6627, val_recall: 0.3137, val_precision: 0.2127, val_f1: 0.2517\n",
            "Epoch [5], val_loss: 1.1838, val_acc: 0.6627, val_recall: 0.3137, val_precision: 0.2127, val_f1: 0.2517\n",
            "Epoch [6], val_loss: 1.1564, val_acc: 0.6627, val_recall: 0.3137, val_precision: 0.2127, val_f1: 0.2517\n",
            "Epoch [7], val_loss: 1.1315, val_acc: 0.6627, val_recall: 0.3137, val_precision: 0.2127, val_f1: 0.2517\n",
            "Epoch [8], val_loss: 1.1092, val_acc: 0.6627, val_recall: 0.3137, val_precision: 0.2127, val_f1: 0.2517\n",
            "Epoch [9], val_loss: 1.0891, val_acc: 0.6627, val_recall: 0.3137, val_precision: 0.2127, val_f1: 0.2517\n",
            "Epoch [10], val_loss: 1.0713, val_acc: 0.6627, val_recall: 0.3137, val_precision: 0.2127, val_f1: 0.2517\n",
            "Epoch [11], val_loss: 1.0556, val_acc: 0.6627, val_recall: 0.3137, val_precision: 0.2127, val_f1: 0.2517\n",
            "Epoch [12], val_loss: 1.0417, val_acc: 0.6627, val_recall: 0.3137, val_precision: 0.2127, val_f1: 0.2517\n",
            "Epoch [13], val_loss: 1.0295, val_acc: 0.6627, val_recall: 0.3137, val_precision: 0.2127, val_f1: 0.2517\n",
            "Epoch [14], val_loss: 1.0189, val_acc: 0.6627, val_recall: 0.3137, val_precision: 0.2127, val_f1: 0.2517\n",
            "Epoch [15], val_loss: 1.0095, val_acc: 0.6627, val_recall: 0.3137, val_precision: 0.2127, val_f1: 0.2517\n",
            "Epoch [16], val_loss: 1.0014, val_acc: 0.6627, val_recall: 0.3137, val_precision: 0.2127, val_f1: 0.2517\n",
            "Epoch [17], val_loss: 0.9944, val_acc: 0.6627, val_recall: 0.3137, val_precision: 0.2127, val_f1: 0.2517\n",
            "Epoch [18], val_loss: 0.9882, val_acc: 0.6627, val_recall: 0.3137, val_precision: 0.2127, val_f1: 0.2517\n",
            "Epoch [19], val_loss: 0.9827, val_acc: 0.6627, val_recall: 0.3137, val_precision: 0.2127, val_f1: 0.2517\n",
            "Epoch [20], val_loss: 0.9777, val_acc: 0.6627, val_recall: 0.3137, val_precision: 0.2127, val_f1: 0.2517\n",
            "Epoch [21], val_loss: 0.9733, val_acc: 0.6627, val_recall: 0.3137, val_precision: 0.2127, val_f1: 0.2517\n",
            "Epoch [22], val_loss: 0.9693, val_acc: 0.6627, val_recall: 0.3137, val_precision: 0.2127, val_f1: 0.2517\n",
            "Epoch [23], val_loss: 0.9655, val_acc: 0.6627, val_recall: 0.3137, val_precision: 0.2127, val_f1: 0.2517\n",
            "Epoch [24], val_loss: 0.9620, val_acc: 0.6627, val_recall: 0.3137, val_precision: 0.2127, val_f1: 0.2517\n",
            "Epoch [25], val_loss: 0.9585, val_acc: 0.6627, val_recall: 0.3137, val_precision: 0.2127, val_f1: 0.2517\n",
            "Epoch [26], val_loss: 0.9550, val_acc: 0.6627, val_recall: 0.3137, val_precision: 0.2127, val_f1: 0.2517\n",
            "Epoch [27], val_loss: 0.9515, val_acc: 0.6627, val_recall: 0.3137, val_precision: 0.2127, val_f1: 0.2517\n",
            "Epoch [28], val_loss: 0.9478, val_acc: 0.6627, val_recall: 0.3137, val_precision: 0.2127, val_f1: 0.2517\n",
            "Epoch [29], val_loss: 0.9441, val_acc: 0.6627, val_recall: 0.3137, val_precision: 0.2127, val_f1: 0.2517\n",
            "Epoch [30], val_loss: 0.9402, val_acc: 0.6627, val_recall: 0.3137, val_precision: 0.2127, val_f1: 0.2517\n",
            "Epoch [31], val_loss: 0.9359, val_acc: 0.6627, val_recall: 0.3137, val_precision: 0.2127, val_f1: 0.2517\n",
            "Epoch [32], val_loss: 0.9311, val_acc: 0.6627, val_recall: 0.3137, val_precision: 0.2127, val_f1: 0.2517\n",
            "Epoch [33], val_loss: 0.9259, val_acc: 0.6627, val_recall: 0.3137, val_precision: 0.2127, val_f1: 0.2517\n",
            "Epoch [34], val_loss: 0.9200, val_acc: 0.6627, val_recall: 0.3137, val_precision: 0.2127, val_f1: 0.2517\n",
            "Epoch [35], val_loss: 0.9135, val_acc: 0.6627, val_recall: 0.3137, val_precision: 0.2127, val_f1: 0.2517\n",
            "Epoch [36], val_loss: 0.9062, val_acc: 0.6627, val_recall: 0.3137, val_precision: 0.2127, val_f1: 0.2517\n",
            "Epoch [37], val_loss: 0.8979, val_acc: 0.6627, val_recall: 0.3137, val_precision: 0.2127, val_f1: 0.2517\n",
            "Epoch [38], val_loss: 0.8881, val_acc: 0.6627, val_recall: 0.3137, val_precision: 0.2127, val_f1: 0.2517\n",
            "Epoch [39], val_loss: 0.8763, val_acc: 0.6627, val_recall: 0.3137, val_precision: 0.2127, val_f1: 0.2517\n",
            "Epoch [40], val_loss: 0.8623, val_acc: 0.6627, val_recall: 0.3137, val_precision: 0.2127, val_f1: 0.2517\n",
            "Epoch [41], val_loss: 0.8466, val_acc: 0.6627, val_recall: 0.3137, val_precision: 0.2127, val_f1: 0.2517\n",
            "Epoch [42], val_loss: 0.8290, val_acc: 0.6907, val_recall: 0.3665, val_precision: 0.3280, val_f1: 0.3402\n",
            "Epoch [43], val_loss: 0.8091, val_acc: 0.7235, val_recall: 0.4172, val_precision: 0.4179, val_f1: 0.4136\n",
            "Epoch [44], val_loss: 0.7873, val_acc: 0.7422, val_recall: 0.4615, val_precision: 0.4466, val_f1: 0.4509\n",
            "Epoch [45], val_loss: 0.7647, val_acc: 0.7554, val_recall: 0.4844, val_precision: 0.4694, val_f1: 0.4743\n",
            "Epoch [46], val_loss: 0.7429, val_acc: 0.7686, val_recall: 0.5099, val_precision: 0.4824, val_f1: 0.4936\n",
            "Epoch [47], val_loss: 0.7236, val_acc: 0.7789, val_recall: 0.5255, val_precision: 0.4852, val_f1: 0.5029\n",
            "Epoch [48], val_loss: 0.7074, val_acc: 0.7892, val_recall: 0.5408, val_precision: 0.4948, val_f1: 0.5155\n",
            "Epoch [49], val_loss: 0.6942, val_acc: 0.7922, val_recall: 0.5489, val_precision: 0.4926, val_f1: 0.5182\n",
            "Epoch [50], val_loss: 0.6834, val_acc: 0.7951, val_recall: 0.5538, val_precision: 0.4933, val_f1: 0.5210\n",
            "Epoch [51], val_loss: 0.6745, val_acc: 0.7951, val_recall: 0.5538, val_precision: 0.4933, val_f1: 0.5210\n",
            "Epoch [52], val_loss: 0.6670, val_acc: 0.7936, val_recall: 0.5483, val_precision: 0.4891, val_f1: 0.5162\n",
            "Epoch [53], val_loss: 0.6606, val_acc: 0.7936, val_recall: 0.5558, val_precision: 0.4877, val_f1: 0.5190\n",
            "Epoch [54], val_loss: 0.6551, val_acc: 0.7922, val_recall: 0.5553, val_precision: 0.4858, val_f1: 0.5177\n",
            "Epoch [55], val_loss: 0.6502, val_acc: 0.7907, val_recall: 0.5547, val_precision: 0.4808, val_f1: 0.5144\n",
            "Epoch [56], val_loss: 0.6458, val_acc: 0.7907, val_recall: 0.5547, val_precision: 0.4808, val_f1: 0.5144\n",
            "Epoch [57], val_loss: 0.6418, val_acc: 0.7907, val_recall: 0.5547, val_precision: 0.4808, val_f1: 0.5144\n",
            "Epoch [58], val_loss: 0.6383, val_acc: 0.7892, val_recall: 0.5539, val_precision: 0.4782, val_f1: 0.5125\n",
            "Epoch [59], val_loss: 0.6350, val_acc: 0.7892, val_recall: 0.5539, val_precision: 0.4782, val_f1: 0.5125\n",
            "Epoch [60], val_loss: 0.6320, val_acc: 0.7892, val_recall: 0.5539, val_precision: 0.4782, val_f1: 0.5125\n",
            "Epoch [61], val_loss: 0.6292, val_acc: 0.7892, val_recall: 0.5539, val_precision: 0.4782, val_f1: 0.5125\n",
            "Epoch [62], val_loss: 0.6266, val_acc: 0.7892, val_recall: 0.5539, val_precision: 0.4782, val_f1: 0.5125\n",
            "Epoch [63], val_loss: 0.6242, val_acc: 0.7877, val_recall: 0.5529, val_precision: 0.4763, val_f1: 0.5109\n",
            "Epoch [64], val_loss: 0.6220, val_acc: 0.7877, val_recall: 0.5529, val_precision: 0.4763, val_f1: 0.5109\n",
            "Epoch [65], val_loss: 0.6199, val_acc: 0.7877, val_recall: 0.5529, val_precision: 0.4763, val_f1: 0.5109\n",
            "Epoch [66], val_loss: 0.6179, val_acc: 0.7877, val_recall: 0.5529, val_precision: 0.4763, val_f1: 0.5109\n",
            "Epoch [67], val_loss: 0.6160, val_acc: 0.7877, val_recall: 0.5529, val_precision: 0.4763, val_f1: 0.5109\n",
            "Epoch [68], val_loss: 0.6143, val_acc: 0.7877, val_recall: 0.5529, val_precision: 0.4763, val_f1: 0.5109\n",
            "Epoch [69], val_loss: 0.6127, val_acc: 0.7877, val_recall: 0.5529, val_precision: 0.4763, val_f1: 0.5109\n",
            "Epoch [70], val_loss: 0.6111, val_acc: 0.7877, val_recall: 0.5529, val_precision: 0.4763, val_f1: 0.5109\n",
            "Epoch [71], val_loss: 0.6097, val_acc: 0.7877, val_recall: 0.5529, val_precision: 0.4763, val_f1: 0.5109\n",
            "Epoch [72], val_loss: 0.6083, val_acc: 0.7877, val_recall: 0.5529, val_precision: 0.4763, val_f1: 0.5109\n",
            "Epoch [73], val_loss: 0.6070, val_acc: 0.7877, val_recall: 0.5529, val_precision: 0.4763, val_f1: 0.5109\n",
            "Epoch [74], val_loss: 0.6058, val_acc: 0.7877, val_recall: 0.5529, val_precision: 0.4763, val_f1: 0.5109\n",
            "Epoch [75], val_loss: 0.6046, val_acc: 0.7877, val_recall: 0.5529, val_precision: 0.4763, val_f1: 0.5109\n",
            "Epoch [76], val_loss: 0.6035, val_acc: 0.7877, val_recall: 0.5529, val_precision: 0.4763, val_f1: 0.5109\n",
            "Epoch [77], val_loss: 0.6024, val_acc: 0.7877, val_recall: 0.5529, val_precision: 0.4763, val_f1: 0.5109\n",
            "Epoch [78], val_loss: 0.6014, val_acc: 0.7877, val_recall: 0.5529, val_precision: 0.4763, val_f1: 0.5109\n",
            "Epoch [79], val_loss: 0.6005, val_acc: 0.7877, val_recall: 0.5529, val_precision: 0.4763, val_f1: 0.5109\n",
            "Epoch [80], val_loss: 0.5995, val_acc: 0.7877, val_recall: 0.5529, val_precision: 0.4763, val_f1: 0.5109\n",
            "Epoch [81], val_loss: 0.5987, val_acc: 0.7877, val_recall: 0.5529, val_precision: 0.4763, val_f1: 0.5109\n",
            "Epoch [82], val_loss: 0.5978, val_acc: 0.7892, val_recall: 0.5541, val_precision: 0.4766, val_f1: 0.5117\n",
            "Epoch [83], val_loss: 0.5971, val_acc: 0.7892, val_recall: 0.5541, val_precision: 0.4766, val_f1: 0.5117\n",
            "Epoch [84], val_loss: 0.5963, val_acc: 0.7892, val_recall: 0.5541, val_precision: 0.4766, val_f1: 0.5117\n",
            "Epoch [85], val_loss: 0.5956, val_acc: 0.7892, val_recall: 0.5541, val_precision: 0.4766, val_f1: 0.5117\n",
            "Epoch [86], val_loss: 0.5949, val_acc: 0.7892, val_recall: 0.5541, val_precision: 0.4766, val_f1: 0.5117\n",
            "Epoch [87], val_loss: 0.5943, val_acc: 0.7892, val_recall: 0.5541, val_precision: 0.4766, val_f1: 0.5117\n",
            "Epoch [88], val_loss: 0.5937, val_acc: 0.7892, val_recall: 0.5541, val_precision: 0.4766, val_f1: 0.5117\n",
            "Epoch [89], val_loss: 0.5931, val_acc: 0.7892, val_recall: 0.5541, val_precision: 0.4766, val_f1: 0.5117\n",
            "Epoch [90], val_loss: 0.5925, val_acc: 0.7892, val_recall: 0.5541, val_precision: 0.4766, val_f1: 0.5117\n",
            "Epoch [91], val_loss: 0.5919, val_acc: 0.7892, val_recall: 0.5541, val_precision: 0.4766, val_f1: 0.5117\n",
            "Epoch [92], val_loss: 0.5914, val_acc: 0.7892, val_recall: 0.5541, val_precision: 0.4766, val_f1: 0.5117\n",
            "Epoch [93], val_loss: 0.5909, val_acc: 0.7892, val_recall: 0.5541, val_precision: 0.4766, val_f1: 0.5117\n",
            "Epoch [94], val_loss: 0.5904, val_acc: 0.7892, val_recall: 0.5541, val_precision: 0.4766, val_f1: 0.5117\n",
            "Epoch [95], val_loss: 0.5899, val_acc: 0.7892, val_recall: 0.5541, val_precision: 0.4766, val_f1: 0.5117\n",
            "Epoch [96], val_loss: 0.5894, val_acc: 0.7892, val_recall: 0.5541, val_precision: 0.4766, val_f1: 0.5117\n",
            "Epoch [97], val_loss: 0.5890, val_acc: 0.7892, val_recall: 0.5541, val_precision: 0.4766, val_f1: 0.5117\n",
            "Epoch [98], val_loss: 0.5886, val_acc: 0.7892, val_recall: 0.5541, val_precision: 0.4766, val_f1: 0.5117\n",
            "Epoch [99], val_loss: 0.5881, val_acc: 0.7892, val_recall: 0.5541, val_precision: 0.4766, val_f1: 0.5117\n",
            "Epoch [100], val_loss: 0.5877, val_acc: 0.7892, val_recall: 0.5541, val_precision: 0.4766, val_f1: 0.5117\n",
            "Epoch [101], val_loss: 0.5873, val_acc: 0.7892, val_recall: 0.5541, val_precision: 0.4766, val_f1: 0.5117\n",
            "Epoch [102], val_loss: 0.5870, val_acc: 0.7892, val_recall: 0.5541, val_precision: 0.4766, val_f1: 0.5117\n",
            "Epoch [103], val_loss: 0.5866, val_acc: 0.7892, val_recall: 0.5541, val_precision: 0.4766, val_f1: 0.5117\n",
            "Epoch [104], val_loss: 0.5862, val_acc: 0.7892, val_recall: 0.5541, val_precision: 0.4766, val_f1: 0.5117\n",
            "Epoch [105], val_loss: 0.5858, val_acc: 0.7892, val_recall: 0.5541, val_precision: 0.4766, val_f1: 0.5117\n",
            "Epoch [106], val_loss: 0.5855, val_acc: 0.7892, val_recall: 0.5541, val_precision: 0.4766, val_f1: 0.5117\n",
            "Epoch [107], val_loss: 0.5852, val_acc: 0.7892, val_recall: 0.5541, val_precision: 0.4766, val_f1: 0.5117\n",
            "Epoch [108], val_loss: 0.5848, val_acc: 0.7892, val_recall: 0.5541, val_precision: 0.4766, val_f1: 0.5117\n",
            "Epoch [109], val_loss: 0.5845, val_acc: 0.7892, val_recall: 0.5541, val_precision: 0.4766, val_f1: 0.5117\n",
            "Epoch [110], val_loss: 0.5842, val_acc: 0.7892, val_recall: 0.5541, val_precision: 0.4766, val_f1: 0.5117\n",
            "Epoch [111], val_loss: 0.5839, val_acc: 0.7892, val_recall: 0.5541, val_precision: 0.4766, val_f1: 0.5117\n",
            "Epoch [112], val_loss: 0.5836, val_acc: 0.7892, val_recall: 0.5541, val_precision: 0.4766, val_f1: 0.5117\n",
            "Epoch [113], val_loss: 0.5833, val_acc: 0.7892, val_recall: 0.5541, val_precision: 0.4766, val_f1: 0.5117\n",
            "Epoch [114], val_loss: 0.5830, val_acc: 0.7892, val_recall: 0.5541, val_precision: 0.4766, val_f1: 0.5117\n",
            "Epoch [115], val_loss: 0.5827, val_acc: 0.7892, val_recall: 0.5541, val_precision: 0.4766, val_f1: 0.5117\n",
            "Epoch [116], val_loss: 0.5824, val_acc: 0.7892, val_recall: 0.5541, val_precision: 0.4766, val_f1: 0.5117\n",
            "Epoch [117], val_loss: 0.5822, val_acc: 0.7892, val_recall: 0.5541, val_precision: 0.4766, val_f1: 0.5117\n",
            "Epoch [118], val_loss: 0.5819, val_acc: 0.7892, val_recall: 0.5541, val_precision: 0.4766, val_f1: 0.5117\n",
            "Epoch [119], val_loss: 0.5817, val_acc: 0.7892, val_recall: 0.5541, val_precision: 0.4766, val_f1: 0.5117\n",
            "Epoch [120], val_loss: 0.5814, val_acc: 0.7892, val_recall: 0.5541, val_precision: 0.4766, val_f1: 0.5117\n",
            "Epoch [121], val_loss: 0.5811, val_acc: 0.7892, val_recall: 0.5541, val_precision: 0.4766, val_f1: 0.5117\n",
            "Epoch [122], val_loss: 0.5809, val_acc: 0.7892, val_recall: 0.5541, val_precision: 0.4766, val_f1: 0.5117\n",
            "Epoch [123], val_loss: 0.5806, val_acc: 0.7892, val_recall: 0.5541, val_precision: 0.4766, val_f1: 0.5117\n",
            "Epoch [124], val_loss: 0.5804, val_acc: 0.7892, val_recall: 0.5541, val_precision: 0.4766, val_f1: 0.5117\n",
            "Epoch [125], val_loss: 0.5802, val_acc: 0.7892, val_recall: 0.5541, val_precision: 0.4766, val_f1: 0.5117\n",
            "Epoch [126], val_loss: 0.5800, val_acc: 0.7892, val_recall: 0.5541, val_precision: 0.4766, val_f1: 0.5117\n",
            "Epoch [127], val_loss: 0.5797, val_acc: 0.7892, val_recall: 0.5541, val_precision: 0.4766, val_f1: 0.5117\n",
            "Epoch [128], val_loss: 0.5795, val_acc: 0.7892, val_recall: 0.5541, val_precision: 0.4766, val_f1: 0.5117\n",
            "Epoch [129], val_loss: 0.5793, val_acc: 0.7892, val_recall: 0.5541, val_precision: 0.4766, val_f1: 0.5117\n",
            "Epoch [130], val_loss: 0.5790, val_acc: 0.7892, val_recall: 0.5541, val_precision: 0.4766, val_f1: 0.5117\n",
            "Epoch [131], val_loss: 0.5788, val_acc: 0.7892, val_recall: 0.5541, val_precision: 0.4766, val_f1: 0.5117\n",
            "Epoch [132], val_loss: 0.5786, val_acc: 0.7892, val_recall: 0.5541, val_precision: 0.4766, val_f1: 0.5117\n",
            "Epoch [133], val_loss: 0.5784, val_acc: 0.7892, val_recall: 0.5541, val_precision: 0.4766, val_f1: 0.5117\n",
            "Epoch [134], val_loss: 0.5782, val_acc: 0.7892, val_recall: 0.5541, val_precision: 0.4766, val_f1: 0.5117\n",
            "Epoch [135], val_loss: 0.5780, val_acc: 0.7892, val_recall: 0.5541, val_precision: 0.4766, val_f1: 0.5117\n",
            "Epoch [136], val_loss: 0.5778, val_acc: 0.7892, val_recall: 0.5541, val_precision: 0.4766, val_f1: 0.5117\n",
            "Epoch [137], val_loss: 0.5776, val_acc: 0.7892, val_recall: 0.5541, val_precision: 0.4766, val_f1: 0.5117\n",
            "Epoch [138], val_loss: 0.5774, val_acc: 0.7892, val_recall: 0.5541, val_precision: 0.4766, val_f1: 0.5117\n",
            "Epoch [139], val_loss: 0.5772, val_acc: 0.7892, val_recall: 0.5541, val_precision: 0.4766, val_f1: 0.5117\n",
            "Epoch [140], val_loss: 0.5770, val_acc: 0.7892, val_recall: 0.5541, val_precision: 0.4766, val_f1: 0.5117\n",
            "Epoch [141], val_loss: 0.5768, val_acc: 0.7892, val_recall: 0.5541, val_precision: 0.4766, val_f1: 0.5117\n",
            "Epoch [142], val_loss: 0.5766, val_acc: 0.7892, val_recall: 0.5541, val_precision: 0.4766, val_f1: 0.5117\n",
            "Epoch [143], val_loss: 0.5764, val_acc: 0.7892, val_recall: 0.5541, val_precision: 0.4766, val_f1: 0.5117\n",
            "Epoch [144], val_loss: 0.5762, val_acc: 0.7892, val_recall: 0.5541, val_precision: 0.4766, val_f1: 0.5117\n",
            "Epoch [145], val_loss: 0.5761, val_acc: 0.7892, val_recall: 0.5541, val_precision: 0.4766, val_f1: 0.5117\n",
            "Epoch [146], val_loss: 0.5759, val_acc: 0.7892, val_recall: 0.5541, val_precision: 0.4766, val_f1: 0.5117\n",
            "Epoch [147], val_loss: 0.5757, val_acc: 0.7892, val_recall: 0.5541, val_precision: 0.4766, val_f1: 0.5117\n",
            "Epoch [148], val_loss: 0.5755, val_acc: 0.7892, val_recall: 0.5541, val_precision: 0.4766, val_f1: 0.5117\n",
            "Epoch [149], val_loss: 0.5753, val_acc: 0.7892, val_recall: 0.5541, val_precision: 0.4766, val_f1: 0.5117\n",
            "Epoch [150], val_loss: 0.5752, val_acc: 0.7892, val_recall: 0.5541, val_precision: 0.4766, val_f1: 0.5117\n",
            "Epoch [151], val_loss: 0.5750, val_acc: 0.7892, val_recall: 0.5541, val_precision: 0.4766, val_f1: 0.5117\n",
            "Epoch [152], val_loss: 0.5748, val_acc: 0.7892, val_recall: 0.5541, val_precision: 0.4766, val_f1: 0.5117\n",
            "Epoch [153], val_loss: 0.5746, val_acc: 0.7892, val_recall: 0.5541, val_precision: 0.4766, val_f1: 0.5117\n",
            "Epoch [154], val_loss: 0.5744, val_acc: 0.7892, val_recall: 0.5541, val_precision: 0.4766, val_f1: 0.5117\n",
            "Epoch [155], val_loss: 0.5743, val_acc: 0.7892, val_recall: 0.5541, val_precision: 0.4766, val_f1: 0.5117\n",
            "Epoch [156], val_loss: 0.5741, val_acc: 0.7892, val_recall: 0.5541, val_precision: 0.4766, val_f1: 0.5117\n",
            "Epoch [157], val_loss: 0.5739, val_acc: 0.7892, val_recall: 0.5541, val_precision: 0.4766, val_f1: 0.5117\n",
            "Epoch [158], val_loss: 0.5737, val_acc: 0.7892, val_recall: 0.5541, val_precision: 0.4766, val_f1: 0.5117\n",
            "Epoch [159], val_loss: 0.5735, val_acc: 0.7892, val_recall: 0.5541, val_precision: 0.4766, val_f1: 0.5117\n",
            "Epoch [160], val_loss: 0.5733, val_acc: 0.7892, val_recall: 0.5541, val_precision: 0.4766, val_f1: 0.5117\n",
            "Epoch [161], val_loss: 0.5731, val_acc: 0.7892, val_recall: 0.5541, val_precision: 0.4766, val_f1: 0.5117\n",
            "Epoch [162], val_loss: 0.5730, val_acc: 0.7892, val_recall: 0.5541, val_precision: 0.4766, val_f1: 0.5117\n",
            "Epoch [163], val_loss: 0.5728, val_acc: 0.7892, val_recall: 0.5541, val_precision: 0.4766, val_f1: 0.5117\n",
            "Epoch [164], val_loss: 0.5727, val_acc: 0.7892, val_recall: 0.5541, val_precision: 0.4766, val_f1: 0.5117\n",
            "Epoch [165], val_loss: 0.5725, val_acc: 0.7892, val_recall: 0.5541, val_precision: 0.4766, val_f1: 0.5117\n",
            "Epoch [166], val_loss: 0.5723, val_acc: 0.7892, val_recall: 0.5541, val_precision: 0.4766, val_f1: 0.5117\n",
            "Epoch [167], val_loss: 0.5721, val_acc: 0.7892, val_recall: 0.5541, val_precision: 0.4766, val_f1: 0.5117\n",
            "Epoch [168], val_loss: 0.5720, val_acc: 0.7892, val_recall: 0.5541, val_precision: 0.4766, val_f1: 0.5117\n",
            "Epoch [169], val_loss: 0.5718, val_acc: 0.7892, val_recall: 0.5541, val_precision: 0.4766, val_f1: 0.5117\n",
            "Epoch [170], val_loss: 0.5716, val_acc: 0.7892, val_recall: 0.5541, val_precision: 0.4766, val_f1: 0.5117\n",
            "Epoch [171], val_loss: 0.5714, val_acc: 0.7892, val_recall: 0.5541, val_precision: 0.4766, val_f1: 0.5117\n",
            "Epoch [172], val_loss: 0.5712, val_acc: 0.7892, val_recall: 0.5541, val_precision: 0.4766, val_f1: 0.5117\n",
            "Epoch [173], val_loss: 0.5711, val_acc: 0.7892, val_recall: 0.5541, val_precision: 0.4766, val_f1: 0.5117\n",
            "Epoch [174], val_loss: 0.5709, val_acc: 0.7892, val_recall: 0.5541, val_precision: 0.4766, val_f1: 0.5117\n",
            "Epoch [175], val_loss: 0.5707, val_acc: 0.7892, val_recall: 0.5541, val_precision: 0.4766, val_f1: 0.5117\n",
            "Epoch [176], val_loss: 0.5705, val_acc: 0.7892, val_recall: 0.5541, val_precision: 0.4766, val_f1: 0.5117\n",
            "Epoch [177], val_loss: 0.5703, val_acc: 0.7892, val_recall: 0.5541, val_precision: 0.4766, val_f1: 0.5117\n",
            "Epoch [178], val_loss: 0.5701, val_acc: 0.7892, val_recall: 0.5541, val_precision: 0.4766, val_f1: 0.5117\n",
            "Epoch [179], val_loss: 0.5699, val_acc: 0.7892, val_recall: 0.5541, val_precision: 0.4766, val_f1: 0.5117\n",
            "Epoch [180], val_loss: 0.5697, val_acc: 0.7892, val_recall: 0.5541, val_precision: 0.4766, val_f1: 0.5117\n",
            "Epoch [181], val_loss: 0.5695, val_acc: 0.7892, val_recall: 0.5541, val_precision: 0.4766, val_f1: 0.5117\n",
            "Epoch [182], val_loss: 0.5693, val_acc: 0.7892, val_recall: 0.5541, val_precision: 0.4766, val_f1: 0.5117\n",
            "Epoch [183], val_loss: 0.5691, val_acc: 0.7892, val_recall: 0.5541, val_precision: 0.4766, val_f1: 0.5117\n",
            "Epoch [184], val_loss: 0.5688, val_acc: 0.7892, val_recall: 0.5541, val_precision: 0.4766, val_f1: 0.5117\n",
            "Epoch [185], val_loss: 0.5686, val_acc: 0.7892, val_recall: 0.5541, val_precision: 0.4766, val_f1: 0.5117\n",
            "Epoch [186], val_loss: 0.5684, val_acc: 0.7892, val_recall: 0.5541, val_precision: 0.4766, val_f1: 0.5117\n",
            "Epoch [187], val_loss: 0.5682, val_acc: 0.7892, val_recall: 0.5541, val_precision: 0.4766, val_f1: 0.5117\n",
            "Epoch [188], val_loss: 0.5680, val_acc: 0.7892, val_recall: 0.5541, val_precision: 0.4766, val_f1: 0.5117\n",
            "Epoch [189], val_loss: 0.5677, val_acc: 0.7892, val_recall: 0.5541, val_precision: 0.4766, val_f1: 0.5117\n",
            "Epoch [190], val_loss: 0.5675, val_acc: 0.7892, val_recall: 0.5541, val_precision: 0.4766, val_f1: 0.5117\n",
            "Epoch [191], val_loss: 0.5673, val_acc: 0.7892, val_recall: 0.5541, val_precision: 0.4766, val_f1: 0.5117\n",
            "Epoch [192], val_loss: 0.5670, val_acc: 0.7892, val_recall: 0.5541, val_precision: 0.4766, val_f1: 0.5117\n",
            "Epoch [193], val_loss: 0.5667, val_acc: 0.7892, val_recall: 0.5541, val_precision: 0.4766, val_f1: 0.5117\n",
            "Epoch [194], val_loss: 0.5665, val_acc: 0.7892, val_recall: 0.5541, val_precision: 0.4766, val_f1: 0.5117\n",
            "Epoch [195], val_loss: 0.5663, val_acc: 0.7892, val_recall: 0.5541, val_precision: 0.4766, val_f1: 0.5117\n",
            "Epoch [196], val_loss: 0.5660, val_acc: 0.7892, val_recall: 0.5541, val_precision: 0.4766, val_f1: 0.5117\n",
            "Epoch [197], val_loss: 0.5657, val_acc: 0.7892, val_recall: 0.5541, val_precision: 0.4766, val_f1: 0.5117\n",
            "Epoch [198], val_loss: 0.5654, val_acc: 0.7892, val_recall: 0.5541, val_precision: 0.4766, val_f1: 0.5117\n",
            "Epoch [199], val_loss: 0.5650, val_acc: 0.7892, val_recall: 0.5541, val_precision: 0.4766, val_f1: 0.5117\n"
          ]
        }
      ]
    },
    {
      "cell_type": "code",
      "source": [
        "import matplotlib.pyplot as plt\n",
        "def plot_accuracies(history, metric, ylabel, title):\n",
        "    accuracies = [x[metric] for x in history]\n",
        "    plt.plot(accuracies)\n",
        "    plt.xlabel('epoch')\n",
        "    plt.ylabel(ylabel)\n",
        "    plt.title(title);"
      ],
      "metadata": {
        "id": "fuNaxDjnRs0O"
      },
      "execution_count": null,
      "outputs": []
    },
    {
      "cell_type": "code",
      "source": [
        "def plot_losses(history):\n",
        "    train_losses = [x.get('train_loss') for x in history]\n",
        "    val_losses = [x['val_loss'] for x in history]\n",
        "    plt.plot(train_losses, '-b')\n",
        "    plt.plot(val_losses, '-r')\n",
        "    plt.xlabel('epoch')\n",
        "    plt.ylabel('loss')\n",
        "    plt.legend(['Training', 'Validation'])\n",
        "    plt.title('Loss vs. No. of epochs');"
      ],
      "metadata": {
        "id": "OG-6dCMGcmkA"
      },
      "execution_count": null,
      "outputs": []
    },
    {
      "cell_type": "code",
      "source": [
        "plot_losses(history)"
      ],
      "metadata": {
        "id": "dFr2NLrlc5RT",
        "colab": {
          "base_uri": "https://localhost:8080/",
          "height": 295
        },
        "outputId": "49f2074a-83a5-432d-f537-0851e1e36d24"
      },
      "execution_count": null,
      "outputs": [
        {
          "output_type": "display_data",
          "data": {
            "text/plain": [
              "<Figure size 432x288 with 1 Axes>"
            ],
            "image/png": "[encoded data removed]"
          },
          "metadata": {
            "needs_background": "light"
          }
        }
      ]
    },
    {
      "cell_type": "code",
      "source": [
        "plot_accuracies(history, 'val_acc', 'Validation Accuracy', 'Validation Accuracy vs. No. of epochs')"
      ],
      "metadata": {
        "id": "3QBDe5g0Rt61",
        "colab": {
          "base_uri": "https://localhost:8080/",
          "height": 295
        },
        "outputId": "bb9b7759-0737-43b0-9553-7766c56cd864"
      },
      "execution_count": null,
      "outputs": [
        {
          "output_type": "display_data",
          "data": {
            "text/plain": [
              "<Figure size 432x288 with 1 Axes>"
            ],
            "image/png": "[encoded data removed]"
          },
          "metadata": {
            "needs_background": "light"
          }
        }
      ]
    },
    {
      "cell_type": "code",
      "source": [
        "plot_accuracies(history, 'val_f1', 'Validation F1 Score', 'Validation F1 Score vs. No. of epochs')"
      ],
      "metadata": {
        "id": "AOgdYQiDbOUN",
        "colab": {
          "base_uri": "https://localhost:8080/",
          "height": 295
        },
        "outputId": "90ed1f1a-1aae-4f46-e302-75e0cac26046"
      },
      "execution_count": null,
      "outputs": [
        {
          "output_type": "display_data",
          "data": {
            "text/plain": [
              "<Figure size 432x288 with 1 Axes>"
            ],
            "image/png": "[encoded data removed]"
          },
          "metadata": {
            "needs_background": "light"
          }
        }
      ]
    },
    {
      "cell_type": "code",
      "source": [
        "# evaluating the test dataset performance\n",
        "test_history = [evaluate(model, test_dataloader)]"
      ],
      "metadata": {
        "id": "JVz10n_tRrvz"
      },
      "execution_count": null,
      "outputs": []
    },
    {
      "cell_type": "code",
      "source": [
        "test_history"
      ],
      "metadata": {
        "id": "3OOX0NZAczAg",
        "colab": {
          "base_uri": "https://localhost:8080/"
        },
        "outputId": "3c29debd-1d27-4955-88c4-386de04638d9"
      },
      "execution_count": null,
      "outputs": [
        {
          "output_type": "execute_result",
          "data": {
            "text/plain": [
              "[{'val_acc': 0.7866666913032532,\n",
              "  'val_f1': 0.5307966470718384,\n",
              "  'val_loss': 0.5694195628166199,\n",
              "  'val_precision': 0.5056716203689575,\n",
              "  'val_recall': 0.5628145933151245}]"
            ]
          },
          "metadata": {},
          "execution_count": 43
        }
      ]
    },
    {
      "cell_type": "markdown",
      "source": [
        "**Experiment 02**\n",
        "\n",
        "\n",
        "\n",
        "\n",
        "\n"
      ],
      "metadata": {
        "id": "p1NUTt-rQLwS"
      }
    },
    {
      "cell_type": "code",
      "source": [
        "batch_size = 32\n",
        "seed = 4\n",
        "num_epochs = 200\n",
        "omptimser = torch.optim.Adam\n",
        "lr = 0.001"
      ],
      "metadata": {
        "id": "EUl2-vfzuQtl"
      },
      "execution_count": null,
      "outputs": []
    },
    {
      "cell_type": "code",
      "source": [
        "transform = transforms.Compose([\n",
        "                      transforms.Resize((32, 32)), \n",
        "                      transforms.RandomRotation(20),\n",
        "                      transforms.ToTensor(),])"
      ],
      "metadata": {
        "id": "LtW-rR9s7vqL"
      },
      "execution_count": null,
      "outputs": []
    },
    {
      "cell_type": "code",
      "source": [
        "dataset = ImageFolder(data_dir, transform=transform)\n",
        "print(dataset)"
      ],
      "metadata": {
        "id": "YoHsAhKqd9Wb",
        "colab": {
          "base_uri": "https://localhost:8080/"
        },
        "outputId": "02833bee-d776-4dac-a3cb-a319d2c9c91d"
      },
      "execution_count": null,
      "outputs": [
        {
          "output_type": "stream",
          "name": "stdout",
          "text": [
            "Dataset ImageFolder\n",
            "    Number of datapoints: 4482\n",
            "    Root location: /content/drive/MyDrive/4.2 Rukaiya/assignment2Data/imagery\n",
            "    StandardTransform\n",
            "Transform: Compose(\n",
            "               Resize(size=(32, 32), interpolation=bilinear, max_size=None, antialias=None)\n",
            "               RandomRotation(degrees=[-20.0, 20.0], interpolation=nearest, expand=False, fill=0)\n",
            "               ToTensor()\n",
            "           )\n"
          ]
        }
      ]
    },
    {
      "cell_type": "code",
      "source": [
        "torch.manual_seed(seed);\n",
        "test_size = math.floor(0.2 * len(dataset))\n",
        "val_size = math.floor(0.15 * len(dataset))\n",
        "train_size = len(dataset) - val_size - test_size\n",
        "train_dataset, val_dataset, test_dataset = random_split(dataset, [train_size, val_size, test_size])\n",
        "len(train_dataset), len(val_dataset), len(test_dataset)"
      ],
      "metadata": {
        "id": "fxLCFWwdd9Wc",
        "colab": {
          "base_uri": "https://localhost:8080/"
        },
        "outputId": "5db11534-164d-4f8d-b392-8083af6ff894"
      },
      "execution_count": null,
      "outputs": [
        {
          "output_type": "execute_result",
          "data": {
            "text/plain": [
              "(2914, 672, 896)"
            ]
          },
          "metadata": {},
          "execution_count": 52
        }
      ]
    },
    {
      "cell_type": "code",
      "metadata": {
        "id": "mKnenzvbgzN-"
      },
      "source": [
        "train_dataloader = DataLoader(train_dataset, batch_size, shuffle=True)\n",
        "validation_dataloader = DataLoader(val_dataset, batch_size)\n",
        "test_dataloader = DataLoader(test_dataset, batch_size)"
      ],
      "execution_count": null,
      "outputs": []
    },
    {
      "cell_type": "code",
      "metadata": {
        "id": "UDvRyALMjz0I"
      },
      "source": [
        "class CovNet(nn.Module):\n",
        "    def __init__(self):\n",
        "        super().__init__()\n",
        "        self.network = nn.Sequential(\n",
        "            nn.Conv2d(3, 32, kernel_size=3, padding=1),\n",
        "            nn.ReLU(),\n",
        "            nn.Conv2d(32, 64, kernel_size=3, stride=1, padding=1),\n",
        "            nn.ReLU(),\n",
        "\n",
        "            nn.MaxPool2d(2, 2), #64 x 16 x 16\n",
        "\n",
        "            nn.Conv2d(64, 128, kernel_size=3, stride=1, padding=1),\n",
        "            nn.ReLU(),\n",
        "            nn.Dropout(),\n",
        "            \n",
        "            nn.MaxPool2d(2, 2), #128 x 8 x 8\n",
        "            \n",
        "            nn.Conv2d(128, 256, kernel_size=3, stride=1, padding=1),\n",
        "            nn.ReLU(),\n",
        "            nn.Conv2d(256, 256, kernel_size=3, stride=1, padding=1),\n",
        "            nn.ReLU(),\n",
        "            nn.Dropout(),\n",
        "            \n",
        "            nn.MaxPool2d(2, 2), #256 x 4 x 4\n",
        "          \n",
        "            nn.Flatten(), \n",
        "            nn.Linear(256*4*4, 1024),\n",
        "            nn.ReLU(),\n",
        "            nn.Linear(1024, 512),\n",
        "            nn.ReLU(),\n",
        "            nn.Dropout(),\n",
        "            nn.Linear(512, 4))\n",
        "        \n",
        "    def forward(self, x):\n",
        "        return self.network(x)\n",
        "      \n",
        "    def training_step(self, batch):\n",
        "        images, labels = batch \n",
        "        out = self(images)                 \n",
        "        loss = F.cross_entropy(out, labels) \n",
        "        return loss\n",
        "    \n",
        "    def validation_step(self, batch):\n",
        "        images, labels = batch \n",
        "        out = self(images)                    \n",
        "        out = out.to(device='cuda')\n",
        "        loss = F.cross_entropy(out, labels)   \n",
        "        labels = labels.to(device='cuda')\n",
        "        acc = accuracy(out, labels)           \n",
        "        prec = precision(out, labels)\n",
        "        rec = recall(out, labels)\n",
        "        f1 = f1_score(out, labels)\n",
        "        return {'val_loss':loss, 'val_acc': acc, 'val_recall': rec, 'val_precision': prec, 'val_f1': f1}\n",
        "        \n",
        "    def validation_epoch_end(self, outputs):\n",
        "        batch_losses = [x['val_loss'] for x in outputs]\n",
        "        epoch_loss = torch.stack(batch_losses).mean()   # Combine losses\n",
        "        batch_accs = [x['val_acc'] for x in outputs]\n",
        "        epoch_acc = torch.stack(batch_accs).mean()      # Combine accuracies\n",
        "        batch_recall = [x['val_recall'] for x in outputs]\n",
        "        epoch_recall = torch.stack(batch_recall).mean()  \n",
        "        batch_precision = [x['val_precision'] for x in outputs]\n",
        "        epoch_precision = torch.stack(batch_precision).mean()  \n",
        "        batch_f1 = [x['val_f1'] for x in outputs]\n",
        "        epoch_f1 = torch.stack(batch_f1).mean()     \n",
        "        return {'val_loss': epoch_loss.item(), 'val_acc': epoch_acc.item(), 'val_recall': epoch_recall.item(), 'val_precision': epoch_precision.item(), 'val_f1': epoch_f1.item()}\n",
        "    \n",
        "    def epoch_end(self, epoch, result):\n",
        "        print(\"Epoch [{}], val_loss: {:}, val_acc: {:}, val_recall: {:}, val_precision: {:}, val_f1: {:}\".format(epoch, result['val_loss'], result['val_acc'], result['val_recall'], result['val_precision'], result['val_f1']))"
      ],
      "execution_count": null,
      "outputs": []
    },
    {
      "cell_type": "code",
      "metadata": {
        "id": "EzExm2aqj44O",
        "colab": {
          "base_uri": "https://localhost:8080/"
        },
        "outputId": "b42b996f-0e4f-425d-b3cc-cb973c4f0c60"
      },
      "source": [
        "model = CovNet()\n",
        "model"
      ],
      "execution_count": null,
      "outputs": [
        {
          "output_type": "execute_result",
          "data": {
            "text/plain": [
              "CovNet(\n",
              "  (network): Sequential(\n",
              "    (0): Conv2d(3, 32, kernel_size=(3, 3), stride=(1, 1), padding=(1, 1))\n",
              "    (1): ReLU()\n",
              "    (2): Conv2d(32, 64, kernel_size=(3, 3), stride=(1, 1), padding=(1, 1))\n",
              "    (3): ReLU()\n",
              "    (4): MaxPool2d(kernel_size=2, stride=2, padding=0, dilation=1, ceil_mode=False)\n",
              "    (5): Conv2d(64, 128, kernel_size=(3, 3), stride=(1, 1), padding=(1, 1))\n",
              "    (6): ReLU()\n",
              "    (7): Dropout(p=0.5, inplace=False)\n",
              "    (8): MaxPool2d(kernel_size=2, stride=2, padding=0, dilation=1, ceil_mode=False)\n",
              "    (9): Conv2d(128, 256, kernel_size=(3, 3), stride=(1, 1), padding=(1, 1))\n",
              "    (10): ReLU()\n",
              "    (11): Conv2d(256, 256, kernel_size=(3, 3), stride=(1, 1), padding=(1, 1))\n",
              "    (12): ReLU()\n",
              "    (13): Dropout(p=0.5, inplace=False)\n",
              "    (14): MaxPool2d(kernel_size=2, stride=2, padding=0, dilation=1, ceil_mode=False)\n",
              "    (15): Flatten(start_dim=1, end_dim=-1)\n",
              "    (16): Linear(in_features=4096, out_features=1024, bias=True)\n",
              "    (17): ReLU()\n",
              "    (18): Linear(in_features=1024, out_features=512, bias=True)\n",
              "    (19): ReLU()\n",
              "    (20): Dropout(p=0.5, inplace=False)\n",
              "    (21): Linear(in_features=512, out_features=4, bias=True)\n",
              "  )\n",
              ")"
            ]
          },
          "metadata": {},
          "execution_count": 75
        }
      ]
    },
    {
      "cell_type": "code",
      "metadata": {
        "id": "H6d5mBJMkBc_"
      },
      "source": [
        "device = get_default_device()"
      ],
      "execution_count": null,
      "outputs": []
    },
    {
      "cell_type": "code",
      "metadata": {
        "id": "X1lH0I3SkEWW",
        "colab": {
          "base_uri": "https://localhost:8080/"
        },
        "outputId": "300f0370-6392-4041-93ef-bd743ac0fe67"
      },
      "source": [
        "train_dataloader = DeviceDataLoader(train_dataloader, device)\n",
        "validation_dataloader = DeviceDataLoader(validation_dataloader, device)\n",
        "test_dataloader = DeviceDataLoader(test_dataloader, device)\n",
        "to_device(model, device)"
      ],
      "execution_count": null,
      "outputs": [
        {
          "output_type": "execute_result",
          "data": {
            "text/plain": [
              "CovNet(\n",
              "  (network): Sequential(\n",
              "    (0): Conv2d(3, 32, kernel_size=(3, 3), stride=(1, 1), padding=(1, 1))\n",
              "    (1): ReLU()\n",
              "    (2): Conv2d(32, 64, kernel_size=(3, 3), stride=(1, 1), padding=(1, 1))\n",
              "    (3): ReLU()\n",
              "    (4): MaxPool2d(kernel_size=2, stride=2, padding=0, dilation=1, ceil_mode=False)\n",
              "    (5): Conv2d(64, 128, kernel_size=(3, 3), stride=(2, 2), padding=(1, 1))\n",
              "    (6): ReLU()\n",
              "    (7): Dropout(p=0.5, inplace=False)\n",
              "    (8): MaxPool2d(kernel_size=2, stride=2, padding=0, dilation=1, ceil_mode=False)\n",
              "    (9): Conv2d(128, 256, kernel_size=(3, 3), stride=(1, 1), padding=(1, 1))\n",
              "    (10): ReLU()\n",
              "    (11): Conv2d(256, 256, kernel_size=(3, 3), stride=(1, 1), padding=(1, 1))\n",
              "    (12): ReLU()\n",
              "    (13): Dropout(p=0.5, inplace=False)\n",
              "    (14): MaxPool2d(kernel_size=2, stride=2, padding=0, dilation=1, ceil_mode=False)\n",
              "    (15): Flatten(start_dim=1, end_dim=-1)\n",
              "    (16): Linear(in_features=4096, out_features=1024, bias=True)\n",
              "    (17): ReLU()\n",
              "    (18): Linear(in_features=1024, out_features=512, bias=True)\n",
              "    (19): ReLU()\n",
              "    (20): Dropout(p=0.5, inplace=False)\n",
              "    (21): Linear(in_features=512, out_features=4, bias=True)\n",
              "  )\n",
              ")"
            ]
          },
          "metadata": {},
          "execution_count": 69
        }
      ]
    },
    {
      "cell_type": "code",
      "metadata": {
        "id": "MORxkuUEkHRh"
      },
      "source": [
        "@torch.no_grad()\n",
        "def evaluate(model, val_loader):\n",
        "    model.eval()\n",
        "    outputs = [model.validation_step(batch) for batch in val_loader]\n",
        "    return model.validation_epoch_end(outputs)\n",
        "\n",
        "def fit(epochs, lr, model, train_loader, val_loader, opt_func=torch.optim.SGD):\n",
        "    history = []\n",
        "    optimizer = opt_func(model.parameters(), lr)\n",
        "    for epoch in range(epochs):\n",
        "        # Training Phase \n",
        "        model.train()\n",
        "        train_losses = []\n",
        "        for batch in train_loader:\n",
        "            loss = model.training_step(batch)\n",
        "            train_losses.append(loss)\n",
        "            loss.backward()\n",
        "            optimizer.step()\n",
        "            optimizer.zero_grad()\n",
        "        # Validation phase\n",
        "        result = evaluate(model, val_loader)\n",
        "        result['train_loss'] = torch.stack(train_losses).mean().item()\n",
        "        model.epoch_end(epoch, result)\n",
        "        history.append(result)\n",
        "    return history"
      ],
      "execution_count": null,
      "outputs": []
    },
    {
      "cell_type": "code",
      "metadata": {
        "id": "4oYrMwNAkSRu"
      },
      "source": [
        "model = to_device(CovNet(), device)"
      ],
      "execution_count": null,
      "outputs": []
    },
    {
      "cell_type": "code",
      "metadata": {
        "id": "Gpiv28OtntoK",
        "colab": {
          "base_uri": "https://localhost:8080/"
        },
        "outputId": "802099fe-ad60-43f0-c84f-3b8b7f0a298c"
      },
      "source": [
        "history_CovN = fit(num_epochs, lr, model, train_dataloader, validation_dataloader, omptimser)"
      ],
      "execution_count": null,
      "outputs": [
        {
          "output_type": "stream",
          "name": "stdout",
          "text": [
            "Epoch [0], val_loss: 0.5987120866775513, val_acc: 0.8035714626312256, val_recall: 0.5529100894927979, val_precision: 0.49187588691711426, val_f1: 0.5204028487205505\n",
            "Epoch [1], val_loss: 0.6080060005187988, val_acc: 0.7991071343421936, val_recall: 0.5489418506622314, val_precision: 0.49086058139801025, val_f1: 0.5180191397666931\n",
            "Epoch [2], val_loss: 0.8133187890052795, val_acc: 0.800595223903656, val_recall: 0.5502645969390869, val_precision: 0.4911719262599945, val_f1: 0.5188199877738953\n",
            "Epoch [3], val_loss: 0.713884711265564, val_acc: 0.8035714626312256, val_recall: 0.5529100894927979, val_precision: 0.49187588691711426, val_f1: 0.5204028487205505\n",
            "Epoch [4], val_loss: 0.641878068447113, val_acc: 0.7991071343421936, val_recall: 0.5532633662223816, val_precision: 0.4810405671596527, val_f1: 0.5143024325370789\n",
            "Epoch [5], val_loss: 0.6010519862174988, val_acc: 0.8020833730697632, val_recall: 0.5515873432159424, val_precision: 0.49150922894477844, val_f1: 0.5196125507354736\n",
            "Epoch [6], val_loss: 0.8120517134666443, val_acc: 0.8035714626312256, val_recall: 0.5529100894927979, val_precision: 0.49187588691711426, val_f1: 0.5204028487205505\n",
            "Epoch [7], val_loss: 0.714219868183136, val_acc: 0.8035714626312256, val_recall: 0.5529100894927979, val_precision: 0.49187588691711426, val_f1: 0.5204028487205505\n",
            "Epoch [8], val_loss: 0.6130842566490173, val_acc: 0.805059552192688, val_recall: 0.5555555820465088, val_precision: 0.49232810735702515, val_f1: 0.5218586325645447\n",
            "Epoch [9], val_loss: 0.6005345582962036, val_acc: 0.8020833730697632, val_recall: 0.5523689389228821, val_precision: 0.4918025732040405, val_f1: 0.5201117396354675\n",
            "Epoch [10], val_loss: 0.532406210899353, val_acc: 0.805059552192688, val_recall: 0.5555555820465088, val_precision: 0.49232810735702515, val_f1: 0.5218586325645447\n",
            "Epoch [11], val_loss: 0.6076489686965942, val_acc: 0.8035714626312256, val_recall: 0.5550380349159241, val_precision: 0.48926395177841187, val_f1: 0.5198331475257874\n",
            "Epoch [12], val_loss: 0.5827853679656982, val_acc: 0.8035714626312256, val_recall: 0.5529100894927979, val_precision: 0.49187588691711426, val_f1: 0.5204028487205505\n",
            "Epoch [13], val_loss: 0.5356609225273132, val_acc: 0.805059552192688, val_recall: 0.5555555820465088, val_precision: 0.49232810735702515, val_f1: 0.5218586325645447\n",
            "Epoch [14], val_loss: 0.644547700881958, val_acc: 0.7991071343421936, val_recall: 0.5512675642967224, val_precision: 0.4796949326992035, val_f1: 0.512006402015686\n",
            "Epoch [15], val_loss: 0.5846403241157532, val_acc: 0.8035714626312256, val_recall: 0.5529100894927979, val_precision: 0.49187588691711426, val_f1: 0.5204028487205505\n",
            "Epoch [16], val_loss: 0.5728930830955505, val_acc: 0.805059552192688, val_recall: 0.5555555820465088, val_precision: 0.49232810735702515, val_f1: 0.5218586325645447\n",
            "Epoch [17], val_loss: 0.6562599539756775, val_acc: 0.8065476417541504, val_recall: 0.557256281375885, val_precision: 0.504544198513031, val_f1: 0.5286561250686646\n",
            "Epoch [18], val_loss: 0.540934145450592, val_acc: 0.8080357313156128, val_recall: 0.5609127283096313, val_precision: 0.5168747901916504, val_f1: 0.53620445728302\n",
            "Epoch [19], val_loss: 0.5132688283920288, val_acc: 0.8110119104385376, val_recall: 0.5733581185340881, val_precision: 0.5742747783660889, val_f1: 0.5699143409729004\n",
            "Epoch [20], val_loss: 0.45678049325942993, val_acc: 0.8125, val_recall: 0.5706160664558411, val_precision: 0.556837260723114, val_f1: 0.5604913830757141\n",
            "Epoch [21], val_loss: 0.48997125029563904, val_acc: 0.8139880895614624, val_recall: 0.5767289996147156, val_precision: 0.5946727991104126, val_f1: 0.581108808517456\n",
            "Epoch [22], val_loss: 0.43832606077194214, val_acc: 0.8154761791229248, val_recall: 0.5718915462493896, val_precision: 0.590346097946167, val_f1: 0.5766529440879822\n",
            "Epoch [23], val_loss: 0.426542192697525, val_acc: 0.8333333730697632, val_recall: 0.6257582306861877, val_precision: 0.6838657259941101, val_f1: 0.6513017416000366\n",
            "Epoch [24], val_loss: 0.43171823024749756, val_acc: 0.8377976417541504, val_recall: 0.6639746427536011, val_precision: 0.6978921294212341, val_f1: 0.679340124130249\n",
            "Epoch [25], val_loss: 0.4128042161464691, val_acc: 0.84375, val_recall: 0.6338111758232117, val_precision: 0.7082269787788391, val_f1: 0.6670103073120117\n",
            "Epoch [26], val_loss: 0.3796064257621765, val_acc: 0.8541666865348816, val_recall: 0.6547223925590515, val_precision: 0.7231631875038147, val_f1: 0.6853288412094116\n",
            "Epoch [27], val_loss: 0.4101620614528656, val_acc: 0.879464328289032, val_recall: 0.717521607875824, val_precision: 0.7596131563186646, val_f1: 0.7370321750640869\n",
            "Epoch [28], val_loss: 0.3442527651786804, val_acc: 0.8616071343421936, val_recall: 0.7044040560722351, val_precision: 0.7779854536056519, val_f1: 0.7375156283378601\n",
            "Epoch [29], val_loss: 0.34702038764953613, val_acc: 0.8690476417541504, val_recall: 0.6755578517913818, val_precision: 0.7458421587944031, val_f1: 0.7071681022644043\n",
            "Epoch [30], val_loss: 0.3383435010910034, val_acc: 0.8764880895614624, val_recall: 0.7276833653450012, val_precision: 0.8084980249404907, val_f1: 0.7640761733055115\n",
            "Epoch [31], val_loss: 0.31389087438583374, val_acc: 0.8764880895614624, val_recall: 0.7248036861419678, val_precision: 0.8159581422805786, val_f1: 0.7661730647087097\n",
            "Epoch [32], val_loss: 0.2963012456893921, val_acc: 0.8764880895614624, val_recall: 0.7081311941146851, val_precision: 0.7884015440940857, val_f1: 0.7445759177207947\n",
            "Epoch [33], val_loss: 0.28063732385635376, val_acc: 0.8973214626312256, val_recall: 0.7348984479904175, val_precision: 0.7801974415779114, val_f1: 0.7554828524589539\n",
            "Epoch [34], val_loss: 0.2640971541404724, val_acc: 0.9047619104385376, val_recall: 0.760773241519928, val_precision: 0.8321078419685364, val_f1: 0.794057309627533\n",
            "Epoch [35], val_loss: 0.27965953946113586, val_acc: 0.910714328289032, val_recall: 0.8079051971435547, val_precision: 0.8765143752098083, val_f1: 0.8398539423942566\n",
            "Epoch [36], val_loss: 0.2385229915380478, val_acc: 0.9196428656578064, val_recall: 0.8521550893783569, val_precision: 0.9272289276123047, val_f1: 0.8869121074676514\n",
            "Epoch [37], val_loss: 0.2664331793785095, val_acc: 0.9226190447807312, val_recall: 0.8373098969459534, val_precision: 0.8696879744529724, val_f1: 0.8517031073570251\n",
            "Epoch [38], val_loss: 0.24390454590320587, val_acc: 0.9032738208770752, val_recall: 0.8173519372940063, val_precision: 0.8602819442749023, val_f1: 0.8372214436531067\n",
            "Epoch [39], val_loss: 0.25829485058784485, val_acc: 0.898809552192688, val_recall: 0.7841007113456726, val_precision: 0.8888591527938843, val_f1: 0.8314987421035767\n",
            "Epoch [40], val_loss: 0.21072272956371307, val_acc: 0.9270833730697632, val_recall: 0.8689720630645752, val_precision: 0.9465179443359375, val_f1: 0.905336856842041\n",
            "Epoch [41], val_loss: 0.22004260122776031, val_acc: 0.9241071343421936, val_recall: 0.8464232087135315, val_precision: 0.9216967225074768, val_f1: 0.881575345993042\n",
            "Epoch [42], val_loss: 0.18568336963653564, val_acc: 0.941964328289032, val_recall: 0.8689211010932922, val_precision: 0.8928624391555786, val_f1: 0.8801586627960205\n",
            "Epoch [43], val_loss: 0.19458770751953125, val_acc: 0.9389880895614624, val_recall: 0.8800962567329407, val_precision: 0.9039248824119568, val_f1: 0.8911110162734985\n",
            "Epoch [44], val_loss: 0.17999717593193054, val_acc: 0.9285714626312256, val_recall: 0.8553445339202881, val_precision: 0.8923695087432861, val_f1: 0.8729199171066284\n",
            "Epoch [45], val_loss: 0.18305832147598267, val_acc: 0.9389880895614624, val_recall: 0.8426691889762878, val_precision: 0.9007899165153503, val_f1: 0.8699123859405518\n",
            "Epoch [46], val_loss: 0.17553123831748962, val_acc: 0.949404776096344, val_recall: 0.8975843191146851, val_precision: 0.9357927441596985, val_f1: 0.915459156036377\n",
            "Epoch [47], val_loss: 0.16622905433177948, val_acc: 0.9672619104385376, val_recall: 0.9150397181510925, val_precision: 0.9270955920219421, val_f1: 0.9205033779144287\n",
            "Epoch [48], val_loss: 0.1393522173166275, val_acc: 0.949404776096344, val_recall: 0.9134498238563538, val_precision: 0.9389779567718506, val_f1: 0.9253816604614258\n",
            "Epoch [49], val_loss: 0.24334239959716797, val_acc: 0.9092261791229248, val_recall: 0.8314950466156006, val_precision: 0.9264732003211975, val_f1: 0.8751925826072693\n",
            "Epoch [50], val_loss: 0.20225447416305542, val_acc: 0.9627976417541504, val_recall: 0.9326531887054443, val_precision: 0.9697844982147217, val_f1: 0.9505676031112671\n",
            "Epoch [51], val_loss: 0.1729697734117508, val_acc: 0.9508928656578064, val_recall: 0.9202934503555298, val_precision: 0.9544196724891663, val_f1: 0.9363176226615906\n",
            "Epoch [52], val_loss: 0.1708158701658249, val_acc: 0.9568452835083008, val_recall: 0.9030112624168396, val_precision: 0.9236475825309753, val_f1: 0.9129891991615295\n",
            "Epoch [53], val_loss: 0.16219906508922577, val_acc: 0.9627976417541504, val_recall: 0.9430555701255798, val_precision: 0.9415265917778015, val_f1: 0.9417639374732971\n",
            "Epoch [54], val_loss: 0.11938560009002686, val_acc: 0.9583333730697632, val_recall: 0.9167311787605286, val_precision: 0.945009171962738, val_f1: 0.9300670027732849\n",
            "Epoch [55], val_loss: 0.1132003515958786, val_acc: 0.9776785969734192, val_recall: 0.9651475548744202, val_precision: 0.9709520936012268, val_f1: 0.9678776264190674\n",
            "Epoch [56], val_loss: 0.14341497421264648, val_acc: 0.9568452835083008, val_recall: 0.9297225475311279, val_precision: 0.9601591229438782, val_f1: 0.9440258741378784\n",
            "Epoch [57], val_loss: 0.10872174799442291, val_acc: 0.973214328289032, val_recall: 0.9384435415267944, val_precision: 0.9583864212036133, val_f1: 0.9479881525039673\n",
            "Epoch [58], val_loss: 0.1154683530330658, val_acc: 0.9791666865348816, val_recall: 0.9266582131385803, val_precision: 0.9342925548553467, val_f1: 0.9301364421844482\n",
            "Epoch [59], val_loss: 0.09655624628067017, val_acc: 0.9702380895614624, val_recall: 0.9400594830513, val_precision: 0.9544368982315063, val_f1: 0.9468144178390503\n",
            "Epoch [60], val_loss: 0.11291104555130005, val_acc: 0.9761905074119568, val_recall: 0.9386348128318787, val_precision: 0.9470105171203613, val_f1: 0.9425914287567139\n",
            "Epoch [61], val_loss: 0.16174811124801636, val_acc: 0.949404776096344, val_recall: 0.8661994934082031, val_precision: 0.8990498781204224, val_f1: 0.8814069628715515\n",
            "Epoch [62], val_loss: 0.08028057962656021, val_acc: 0.9761905074119568, val_recall: 0.9686987996101379, val_precision: 0.9626237750053406, val_f1: 0.9652944207191467\n",
            "Epoch [63], val_loss: 0.0773945301771164, val_acc: 0.9717261791229248, val_recall: 0.9507369995117188, val_precision: 0.9749107360839844, val_f1: 0.9624146223068237\n",
            "Epoch [64], val_loss: 0.08413240313529968, val_acc: 0.9761905074119568, val_recall: 0.9580361843109131, val_precision: 0.9566590785980225, val_f1: 0.9571893215179443\n",
            "Epoch [65], val_loss: 0.08511102199554443, val_acc: 0.9761905074119568, val_recall: 0.9536396265029907, val_precision: 0.9769616723060608, val_f1: 0.9649142622947693\n",
            "Epoch [66], val_loss: 0.09915473312139511, val_acc: 0.9747024178504944, val_recall: 0.9590174555778503, val_precision: 0.9708554744720459, val_f1: 0.9646916389465332\n",
            "Epoch [67], val_loss: 0.08173809945583344, val_acc: 0.9821428656578064, val_recall: 0.9473481178283691, val_precision: 0.9529457092285156, val_f1: 0.9499412775039673\n",
            "Epoch [68], val_loss: 0.08362733572721481, val_acc: 0.9776785969734192, val_recall: 0.9605258703231812, val_precision: 0.9515283107757568, val_f1: 0.9557563662528992\n",
            "Epoch [69], val_loss: 0.07771646231412888, val_acc: 0.9672619104385376, val_recall: 0.9183080792427063, val_precision: 0.9478440284729004, val_f1: 0.9323869347572327\n",
            "Epoch [70], val_loss: 0.10035640001296997, val_acc: 0.9821428656578064, val_recall: 0.9652194380760193, val_precision: 0.965467095375061, val_f1: 0.9648601412773132\n",
            "Epoch [71], val_loss: 0.5100163817405701, val_acc: 0.8273809552192688, val_recall: 0.7392871379852295, val_precision: 0.7726998925209045, val_f1: 0.7539560198783875\n",
            "Epoch [72], val_loss: 0.2827823758125305, val_acc: 0.8526785969734192, val_recall: 0.648044228553772, val_precision: 0.7621719837188721, val_f1: 0.6986270546913147\n",
            "Epoch [73], val_loss: 0.13848471641540527, val_acc: 0.9657738208770752, val_recall: 0.9317699670791626, val_precision: 0.9401461482048035, val_f1: 0.9356484413146973\n",
            "Epoch [74], val_loss: 0.11469972878694534, val_acc: 0.980654776096344, val_recall: 0.9559249877929688, val_precision: 0.9603782296180725, val_f1: 0.9579266309738159\n",
            "Epoch [75], val_loss: 0.0814783126115799, val_acc: 0.9747024178504944, val_recall: 0.9348530769348145, val_precision: 0.9298577308654785, val_f1: 0.932077944278717\n",
            "Epoch [76], val_loss: 0.07232873141765594, val_acc: 0.9821428656578064, val_recall: 0.9682855606079102, val_precision: 0.9705442190170288, val_f1: 0.9689880609512329\n",
            "Epoch [77], val_loss: 0.0727442130446434, val_acc: 0.980654776096344, val_recall: 0.9580528736114502, val_precision: 0.9585006237030029, val_f1: 0.957942008972168\n",
            "Epoch [78], val_loss: 0.0678304061293602, val_acc: 0.980654776096344, val_recall: 0.9663500189781189, val_precision: 0.9691429138183594, val_f1: 0.9673036336898804\n",
            "Epoch [79], val_loss: 0.07648970186710358, val_acc: 0.9851190447807312, val_recall: 0.9620711803436279, val_precision: 0.9658309817314148, val_f1: 0.9637835621833801\n",
            "Epoch [80], val_loss: 0.0556468740105629, val_acc: 0.9880952835083008, val_recall: 0.9716647863388062, val_precision: 0.983452558517456, val_f1: 0.9773741364479065\n",
            "Epoch [81], val_loss: 0.04515991359949112, val_acc: 0.9880952835083008, val_recall: 0.9691135883331299, val_precision: 0.9624848961830139, val_f1: 0.9656223058700562\n",
            "Epoch [82], val_loss: 0.045873384922742844, val_acc: 0.9895833730697632, val_recall: 0.9871430397033691, val_precision: 0.9913873672485352, val_f1: 0.9890875220298767\n",
            "Epoch [83], val_loss: 0.051414694637060165, val_acc: 0.9910714626312256, val_recall: 0.9784202575683594, val_precision: 0.9826714992523193, val_f1: 0.9805004000663757\n",
            "Epoch [84], val_loss: 0.041493531316518784, val_acc: 0.9940476417541504, val_recall: 0.9967204928398132, val_precision: 0.9923281073570251, val_f1: 0.9944847822189331\n",
            "Epoch [85], val_loss: 0.05304151773452759, val_acc: 0.9910714626312256, val_recall: 0.9779215455055237, val_precision: 0.9818015694618225, val_f1: 0.9797595739364624\n",
            "Epoch [86], val_loss: 0.04873408004641533, val_acc: 0.9866071343421936, val_recall: 0.9522367119789124, val_precision: 0.9525420665740967, val_f1: 0.9522916078567505\n",
            "Epoch [87], val_loss: 0.04684596136212349, val_acc: 0.9895833730697632, val_recall: 0.9777578115463257, val_precision: 0.9820705652236938, val_f1: 0.9798439741134644\n",
            "Epoch [88], val_loss: 0.025957031175494194, val_acc: 0.992559552192688, val_recall: 0.9938576221466064, val_precision: 0.9925427436828613, val_f1: 0.9931411147117615\n",
            "Epoch [89], val_loss: 0.03027527779340744, val_acc: 0.992559552192688, val_recall: 0.9833343029022217, val_precision: 0.9772108197212219, val_f1: 0.9801810383796692\n",
            "Epoch [90], val_loss: 0.06676919013261795, val_acc: 0.9747024178504944, val_recall: 0.9331653118133545, val_precision: 0.9519143104553223, val_f1: 0.9421638250350952\n",
            "Epoch [91], val_loss: 0.061193160712718964, val_acc: 0.9866071343421936, val_recall: 0.9867688417434692, val_precision: 0.9824610352516174, val_f1: 0.9843447804450989\n",
            "Epoch [92], val_loss: 0.05247299000620842, val_acc: 0.9910714626312256, val_recall: 0.9783298969268799, val_precision: 0.9775668978691101, val_f1: 0.9778354167938232\n",
            "Epoch [93], val_loss: 0.03873611241579056, val_acc: 0.9880952835083008, val_recall: 0.976169764995575, val_precision: 0.9751303791999817, val_f1: 0.9755110144615173\n",
            "Epoch [94], val_loss: 0.03535372018814087, val_acc: 0.9910714626312256, val_recall: 0.9668262004852295, val_precision: 0.9680407643318176, val_f1: 0.9672301411628723\n",
            "Epoch [95], val_loss: 0.03580566868185997, val_acc: 0.9895833730697632, val_recall: 0.9703856110572815, val_precision: 0.9650033712387085, val_f1: 0.967559814453125\n",
            "Epoch [96], val_loss: 0.030463023111224174, val_acc: 0.992559552192688, val_recall: 0.9920551180839539, val_precision: 0.9937946200370789, val_f1: 0.9928527474403381\n",
            "Epoch [97], val_loss: 0.09418269991874695, val_acc: 0.9836309552192688, val_recall: 0.9577260613441467, val_precision: 0.9657542109489441, val_f1: 0.9614316821098328\n",
            "Epoch [98], val_loss: 0.12462904304265976, val_acc: 0.9821428656578064, val_recall: 0.9626895785331726, val_precision: 0.959691047668457, val_f1: 0.9610631465911865\n",
            "Epoch [99], val_loss: 0.036617375910282135, val_acc: 0.9940476417541504, val_recall: 0.9938218593597412, val_precision: 0.9934056997299194, val_f1: 0.9935962557792664\n",
            "Epoch [100], val_loss: 0.055059656500816345, val_acc: 0.9910714626312256, val_recall: 0.9652116298675537, val_precision: 0.9723891615867615, val_f1: 0.9686835408210754\n",
            "Epoch [101], val_loss: 0.04424815624952316, val_acc: 0.9895833730697632, val_recall: 0.9576173424720764, val_precision: 0.9553956985473633, val_f1: 0.9564052820205688\n",
            "Epoch [102], val_loss: 0.05155846104025841, val_acc: 0.9895833730697632, val_recall: 0.9751437902450562, val_precision: 0.9821199774742126, val_f1: 0.9785034656524658\n",
            "Epoch [103], val_loss: 0.04981180652976036, val_acc: 0.9970238208770752, val_recall: 0.9875283241271973, val_precision: 0.9855935573577881, val_f1: 0.9865481853485107\n",
            "Epoch [104], val_loss: 0.0326480008661747, val_acc: 0.9910714626312256, val_recall: 0.9790055751800537, val_precision: 0.9808496832847595, val_f1: 0.9798303246498108\n",
            "Epoch [105], val_loss: 0.03633211553096771, val_acc: 0.9940476417541504, val_recall: 0.9825512170791626, val_precision: 0.9843562841415405, val_f1: 0.9834029078483582\n",
            "Epoch [106], val_loss: 0.03144025430083275, val_acc: 0.9910714626312256, val_recall: 0.9849490523338318, val_precision: 0.9945421814918518, val_f1: 0.9895017743110657\n",
            "Epoch [107], val_loss: 0.03600811958312988, val_acc: 0.992559552192688, val_recall: 0.9892858266830444, val_precision: 0.9969218969345093, val_f1: 0.9930036664009094\n",
            "Epoch [108], val_loss: 0.026233481243252754, val_acc: 0.9985119104385376, val_recall: 0.997619092464447, val_precision: 0.9995039105415344, val_f1: 0.9985422492027283\n",
            "Epoch [109], val_loss: 0.025918399915099144, val_acc: 0.9940476417541504, val_recall: 0.981878399848938, val_precision: 0.9856776595115662, val_f1: 0.9837361574172974\n",
            "Epoch [110], val_loss: 0.016926635056734085, val_acc: 0.9970238208770752, val_recall: 0.9955140948295593, val_precision: 0.9955140948295593, val_f1: 0.9955140948295593\n",
            "Epoch [111], val_loss: 0.017938358709216118, val_acc: 0.9985119104385376, val_recall: 0.9988095760345459, val_precision: 0.9993734955787659, val_f1: 0.999089777469635\n",
            "Epoch [112], val_loss: 0.018857505172491074, val_acc: 0.9970238208770752, val_recall: 0.9964569211006165, val_precision: 0.997558057308197, val_f1: 0.9969620704650879\n",
            "Epoch [113], val_loss: 0.02023749053478241, val_acc: 0.9940476417541504, val_recall: 0.9732426404953003, val_precision: 0.9726751446723938, val_f1: 0.9729256629943848\n",
            "Epoch [114], val_loss: 0.03626367822289467, val_acc: 0.9955357313156128, val_recall: 0.9736887812614441, val_precision: 0.9726966619491577, val_f1: 0.9731295704841614\n",
            "Epoch [115], val_loss: 0.026823963969945908, val_acc: 0.9895833730697632, val_recall: 0.9646542072296143, val_precision: 0.9690828323364258, val_f1: 0.9667282104492188\n",
            "Epoch [116], val_loss: 0.013562952168285847, val_acc: 0.9985119104385376, val_recall: 0.9880952835083008, val_precision: 0.9875776171684265, val_f1: 0.9878345727920532\n",
            "Epoch [117], val_loss: 0.027152303606271744, val_acc: 0.9895833730697632, val_recall: 0.9715961217880249, val_precision: 0.9631456732749939, val_f1: 0.9671791791915894\n",
            "Epoch [118], val_loss: 0.033908091485500336, val_acc: 0.9895833730697632, val_recall: 0.9824520349502563, val_precision: 0.9751039147377014, val_f1: 0.9786286950111389\n",
            "Epoch [119], val_loss: 0.023773156106472015, val_acc: 0.9955357313156128, val_recall: 0.9837490320205688, val_precision: 0.9863258600234985, val_f1: 0.9850070476531982\n",
            "Epoch [120], val_loss: 0.01532693486660719, val_acc: 0.9985119104385376, val_recall: 0.9994588494300842, val_precision: 0.9970238208770752, val_f1: 0.9982089996337891\n",
            "Epoch [121], val_loss: 0.019527379423379898, val_acc: 0.9940476417541504, val_recall: 0.9898148775100708, val_precision: 0.9976039528846741, val_f1: 0.9936031103134155\n",
            "Epoch [122], val_loss: 0.14418242871761322, val_acc: 0.9523809552192688, val_recall: 0.9057499170303345, val_precision: 0.8878414034843445, val_f1: 0.8961975574493408\n",
            "Epoch [123], val_loss: 0.08468443900346756, val_acc: 0.9866071343421936, val_recall: 0.9811387658119202, val_precision: 0.9812259078025818, val_f1: 0.9810166358947754\n",
            "Epoch [124], val_loss: 0.06223702430725098, val_acc: 0.980654776096344, val_recall: 0.9429232478141785, val_precision: 0.9670366048812866, val_f1: 0.9545369148254395\n",
            "Epoch [125], val_loss: 0.03486432880163193, val_acc: 0.9910714626312256, val_recall: 0.9718677997589111, val_precision: 0.9664016366004944, val_f1: 0.9689424633979797\n",
            "Epoch [126], val_loss: 0.031045570969581604, val_acc: 0.9895833730697632, val_recall: 0.9899102449417114, val_precision: 0.9891636371612549, val_f1: 0.9894277453422546\n",
            "Epoch [127], val_loss: 0.024933360517024994, val_acc: 0.9940476417541504, val_recall: 0.9943783283233643, val_precision: 0.9949642419815063, val_f1: 0.9946373105049133\n",
            "Epoch [128], val_loss: 0.02980821579694748, val_acc: 0.992559552192688, val_recall: 0.9792208075523376, val_precision: 0.9810064435005188, val_f1: 0.9799668788909912\n",
            "Epoch [129], val_loss: 0.03560992702841759, val_acc: 0.9910714626312256, val_recall: 0.9837838411331177, val_precision: 0.9741120338439941, val_f1: 0.9787899255752563\n",
            "Epoch [130], val_loss: 0.03224039450287819, val_acc: 0.9910714626312256, val_recall: 0.9885004162788391, val_precision: 0.9934663772583008, val_f1: 0.990945041179657\n",
            "Epoch [131], val_loss: 0.020309967920184135, val_acc: 0.9940476417541504, val_recall: 0.9855384230613708, val_precision: 0.9817460775375366, val_f1: 0.9836066365242004\n",
            "Epoch [132], val_loss: 0.021932287141680717, val_acc: 0.9955357313156128, val_recall: 0.992647111415863, val_precision: 0.9954906702041626, val_f1: 0.9938672780990601\n",
            "Epoch [133], val_loss: 0.013861089944839478, val_acc: 0.9985119104385376, val_recall: 0.9880952835083008, val_precision: 0.9875776171684265, val_f1: 0.9878345727920532\n",
            "Epoch [134], val_loss: 0.01728469878435135, val_acc: 0.9970238208770752, val_recall: 0.9949735403060913, val_precision: 0.9988807439804077, val_f1: 0.9968857765197754\n",
            "Epoch [135], val_loss: 0.028912818059325218, val_acc: 0.9866071343421936, val_recall: 0.9600597620010376, val_precision: 0.9657551050186157, val_f1: 0.9626616835594177\n",
            "Epoch [136], val_loss: 0.01855972781777382, val_acc: 0.9955357313156128, val_recall: 0.9966553449630737, val_precision: 0.9950981140136719, val_f1: 0.9958522915840149\n",
            "Epoch [137], val_loss: 0.020789295434951782, val_acc: 0.9940476417541504, val_recall: 0.9975326657295227, val_precision: 0.9914966225624084, val_f1: 0.9944652318954468\n",
            "Epoch [138], val_loss: 0.056943923234939575, val_acc: 0.992559552192688, val_recall: 0.9970517158508301, val_precision: 0.9887136816978455, val_f1: 0.9927917122840881\n",
            "Epoch [139], val_loss: 0.014434082433581352, val_acc: 1.0, val_recall: 1.0, val_precision: 1.0, val_f1: 1.0\n",
            "Epoch [140], val_loss: 0.03150368481874466, val_acc: 0.9895833730697632, val_recall: 0.9767510890960693, val_precision: 0.976355791091919, val_f1: 0.9762042164802551\n",
            "Epoch [141], val_loss: 0.013409599661827087, val_acc: 0.9955357313156128, val_recall: 0.9966811537742615, val_precision: 0.9941060543060303, val_f1: 0.9953476190567017\n",
            "Epoch [142], val_loss: 0.014972014352679253, val_acc: 0.9970238208770752, val_recall: 0.9761905074119568, val_precision: 0.9736887812614441, val_f1: 0.9749093651771545\n",
            "Epoch [143], val_loss: 0.028652852401137352, val_acc: 0.9910714626312256, val_recall: 0.9762755036354065, val_precision: 0.9843189120292664, val_f1: 0.9801831245422363\n",
            "Epoch [144], val_loss: 0.012978295795619488, val_acc: 0.9970238208770752, val_recall: 0.9988378882408142, val_precision: 0.9965277314186096, val_f1: 0.9976677894592285\n",
            "Epoch [145], val_loss: 0.009077039547264576, val_acc: 1.0, val_recall: 1.0, val_precision: 1.0, val_f1: 1.0\n",
            "Epoch [146], val_loss: 0.013273030519485474, val_acc: 0.9940476417541504, val_recall: 0.9912036657333374, val_precision: 0.996381938457489, val_f1: 0.9937103390693665\n",
            "Epoch [147], val_loss: 0.024694766849279404, val_acc: 0.9955357313156128, val_recall: 0.9738095998764038, val_precision: 0.9731711745262146, val_f1: 0.9734413027763367\n",
            "Epoch [148], val_loss: 0.020457960665225983, val_acc: 0.9940476417541504, val_recall: 0.9974376559257507, val_precision: 0.9906463027000427, val_f1: 0.9939446449279785\n",
            "Epoch [149], val_loss: 0.011888938955962658, val_acc: 1.0, val_recall: 1.0, val_precision: 1.0, val_f1: 1.0\n",
            "Epoch [150], val_loss: 0.010483704507350922, val_acc: 0.9985119104385376, val_recall: 0.9973545074462891, val_precision: 0.9993386268615723, val_f1: 0.9983251690864563\n",
            "Epoch [151], val_loss: 0.013345398008823395, val_acc: 0.9955357313156128, val_recall: 0.9845778942108154, val_precision: 0.9839513897895813, val_f1: 0.9841972589492798\n",
            "Epoch [152], val_loss: 0.013478131964802742, val_acc: 0.9970238208770752, val_recall: 0.9875283241271973, val_precision: 0.9855935573577881, val_f1: 0.9865481853485107\n",
            "Epoch [153], val_loss: 0.01502581499516964, val_acc: 0.9985119104385376, val_recall: 0.9973545074462891, val_precision: 0.9993651509284973, val_f1: 0.9983378052711487\n",
            "Epoch [154], val_loss: 0.034030769020318985, val_acc: 0.9880952835083008, val_recall: 0.9448264837265015, val_precision: 0.9380544424057007, val_f1: 0.9412230849266052\n",
            "Epoch [155], val_loss: 0.0252846647053957, val_acc: 0.9940476417541504, val_recall: 0.983934223651886, val_precision: 0.9840928912162781, val_f1: 0.9839865565299988\n",
            "Epoch [156], val_loss: 0.019343718886375427, val_acc: 0.9940476417541504, val_recall: 0.9833133220672607, val_precision: 0.9840887188911438, val_f1: 0.9836585521697998\n",
            "Epoch [157], val_loss: 0.019579511135816574, val_acc: 0.9955357313156128, val_recall: 0.9857596755027771, val_precision: 0.9829480648040771, val_f1: 0.9842848181724548\n",
            "Epoch [158], val_loss: 0.018344324082136154, val_acc: 0.9955357313156128, val_recall: 0.9813492298126221, val_precision: 0.983234167098999, val_f1: 0.9822089076042175\n",
            "Epoch [159], val_loss: 0.004403282422572374, val_acc: 1.0, val_recall: 1.0, val_precision: 1.0, val_f1: 1.0\n",
            "Epoch [160], val_loss: 0.03400789201259613, val_acc: 0.9895833730697632, val_recall: 0.9723734259605408, val_precision: 0.9839678406715393, val_f1: 0.9779779314994812\n",
            "Epoch [161], val_loss: 0.02031564526259899, val_acc: 1.0, val_recall: 1.0, val_precision: 1.0, val_f1: 1.0\n",
            "Epoch [162], val_loss: 0.04047873988747597, val_acc: 0.9851190447807312, val_recall: 0.9638890027999878, val_precision: 0.9820651412010193, val_f1: 0.9726695418357849\n",
            "Epoch [163], val_loss: 0.01682211458683014, val_acc: 0.9955357313156128, val_recall: 0.9964187741279602, val_precision: 0.9965389966964722, val_f1: 0.9964566826820374\n",
            "Epoch [164], val_loss: 0.03159700334072113, val_acc: 0.9985119104385376, val_recall: 0.9980159401893616, val_precision: 0.9990663528442383, val_f1: 0.99853515625\n",
            "Epoch [165], val_loss: 0.020331906154751778, val_acc: 0.9955357313156128, val_recall: 0.9886905550956726, val_precision: 0.9984598755836487, val_f1: 0.9933578968048096\n",
            "Epoch [166], val_loss: 0.02205209620296955, val_acc: 0.9970238208770752, val_recall: 0.9968369007110596, val_precision: 0.9963624477386475, val_f1: 0.9965453743934631\n",
            "Epoch [167], val_loss: 0.02445395290851593, val_acc: 0.992559552192688, val_recall: 0.9759800434112549, val_precision: 0.982714056968689, val_f1: 0.979069709777832\n",
            "Epoch [168], val_loss: 0.022432265803217888, val_acc: 0.9910714626312256, val_recall: 0.9752540588378906, val_precision: 0.9805219769477844, val_f1: 0.9776927828788757\n",
            "Epoch [169], val_loss: 0.01376557257026434, val_acc: 0.9955357313156128, val_recall: 0.9735450148582458, val_precision: 0.9744704365730286, val_f1: 0.9739823341369629\n",
            "Epoch [170], val_loss: 0.01735798455774784, val_acc: 0.9940476417541504, val_recall: 0.9718442559242249, val_precision: 0.9724869728088379, val_f1: 0.9721065163612366\n",
            "Epoch [171], val_loss: 0.01262760628014803, val_acc: 0.9955357313156128, val_recall: 0.9742063879966736, val_precision: 0.9723581671714783, val_f1: 0.9732334017753601\n",
            "Epoch [172], val_loss: 0.01616947539150715, val_acc: 0.9970238208770752, val_recall: 0.997101366519928, val_precision: 0.9974747896194458, val_f1: 0.997258186340332\n",
            "Epoch [173], val_loss: 0.0263940691947937, val_acc: 0.9910714626312256, val_recall: 0.9760393500328064, val_precision: 0.9841305017471313, val_f1: 0.9799745678901672\n",
            "Epoch [174], val_loss: 0.007401219569146633, val_acc: 1.0, val_recall: 1.0, val_precision: 1.0, val_f1: 1.0\n",
            "Epoch [175], val_loss: 0.004054753575474024, val_acc: 0.9985119104385376, val_recall: 0.9880952835083008, val_precision: 0.9875776171684265, val_f1: 0.9878345727920532\n",
            "Epoch [176], val_loss: 0.010066842660307884, val_acc: 0.9985119104385376, val_recall: 0.9880952835083008, val_precision: 0.9875776171684265, val_f1: 0.9878345727920532\n",
            "Epoch [177], val_loss: 0.013916573487222195, val_acc: 0.9985119104385376, val_recall: 0.9960318207740784, val_precision: 0.9995039105415344, val_f1: 0.9977014660835266\n",
            "Epoch [178], val_loss: 0.020313359797000885, val_acc: 0.9955357313156128, val_recall: 0.9944444298744202, val_precision: 0.996978759765625, val_f1: 0.9956663250923157\n",
            "Epoch [179], val_loss: 0.020750613883137703, val_acc: 0.9940476417541504, val_recall: 0.9711251258850098, val_precision: 0.9648810029029846, val_f1: 0.9678212404251099\n",
            "Epoch [180], val_loss: 0.021075721830129623, val_acc: 0.9910714626312256, val_recall: 0.9786916375160217, val_precision: 0.9813936352729797, val_f1: 0.9799472689628601\n",
            "Epoch [181], val_loss: 0.010020413435995579, val_acc: 0.9985119104385376, val_recall: 0.9994823932647705, val_precision: 0.9970238208770752, val_f1: 0.9982202053070068\n",
            "Epoch [182], val_loss: 0.06868721544742584, val_acc: 0.9851190447807312, val_recall: 0.9778702259063721, val_precision: 0.971675455570221, val_f1: 0.974616289138794\n",
            "Epoch [183], val_loss: 0.011190766468644142, val_acc: 0.9970238208770752, val_recall: 0.9962301850318909, val_precision: 0.9973545074462891, val_f1: 0.9967554211616516\n",
            "Epoch [184], val_loss: 0.008331792429089546, val_acc: 0.9985119104385376, val_recall: 0.9880952835083008, val_precision: 0.9875776171684265, val_f1: 0.9878345727920532\n",
            "Epoch [185], val_loss: 0.008001398295164108, val_acc: 1.0, val_recall: 1.0, val_precision: 1.0, val_f1: 1.0\n",
            "Epoch [186], val_loss: 0.020453033968806267, val_acc: 0.9955357313156128, val_recall: 0.992942214012146, val_precision: 0.9982564449310303, val_f1: 0.9955428242683411\n",
            "Epoch [187], val_loss: 0.008218876086175442, val_acc: 0.9970238208770752, val_recall: 0.9964285492897034, val_precision: 0.9988323450088501, val_f1: 0.9976103901863098\n",
            "Epoch [188], val_loss: 0.010139115154743195, val_acc: 0.9970238208770752, val_recall: 0.9989826679229736, val_precision: 0.9946429133415222, val_f1: 0.9967607855796814\n",
            "Epoch [189], val_loss: 0.04390598461031914, val_acc: 0.9880952835083008, val_recall: 0.9677249789237976, val_precision: 0.984282910823822, val_f1: 0.9757169485092163\n",
            "Epoch [190], val_loss: 0.006193105597048998, val_acc: 1.0, val_recall: 1.0, val_precision: 1.0, val_f1: 1.0\n",
            "Epoch [191], val_loss: 0.0108366459608078, val_acc: 0.9955357313156128, val_recall: 0.9978951215744019, val_precision: 0.9927721619606018, val_f1: 0.9952812194824219\n",
            "Epoch [192], val_loss: 0.006731598172336817, val_acc: 1.0, val_recall: 1.0, val_precision: 1.0, val_f1: 1.0\n",
            "Epoch [193], val_loss: 0.012866630218923092, val_acc: 0.9985119104385376, val_recall: 0.9880952835083008, val_precision: 0.9875776171684265, val_f1: 0.9878345727920532\n",
            "Epoch [194], val_loss: 0.01585065945982933, val_acc: 0.9970238208770752, val_recall: 0.9854497909545898, val_precision: 0.9869163036346436, val_f1: 0.9861597418785095\n",
            "Epoch [195], val_loss: 0.025561440736055374, val_acc: 0.9955357313156128, val_recall: 0.9849735498428345, val_precision: 0.9845353364944458, val_f1: 0.9847114086151123\n",
            "Epoch [196], val_loss: 0.009374250657856464, val_acc: 1.0, val_recall: 1.0, val_precision: 1.0, val_f1: 1.0\n",
            "Epoch [197], val_loss: 0.009847823530435562, val_acc: 0.9985119104385376, val_recall: 0.9988095760345459, val_precision: 0.9993734955787659, val_f1: 0.999089777469635\n",
            "Epoch [198], val_loss: 0.005477857310324907, val_acc: 1.0, val_recall: 1.0, val_precision: 1.0, val_f1: 1.0\n",
            "Epoch [199], val_loss: 0.009348204359412193, val_acc: 0.9985119104385376, val_recall: 0.9880952835083008, val_precision: 0.9875776171684265, val_f1: 0.9878345727920532\n"
          ]
        }
      ]
    },
    {
      "cell_type": "code",
      "metadata": {
        "id": "oR1XWw6HnxeQ"
      },
      "source": [
        "from matplotlib import pyplot as plt\n",
        "def plot_accuracies(history, metric, ylabel, title):\n",
        "    accuracies = [x[metric] for x in history]\n",
        "    plt.plot(accuracies)\n",
        "    plt.xlabel('epoch')\n",
        "    plt.ylabel(ylabel)\n",
        "    plt.title(title);"
      ],
      "execution_count": null,
      "outputs": []
    },
    {
      "cell_type": "code",
      "metadata": {
        "id": "Njln6hAUn-oM"
      },
      "source": [
        "plot_accuracies(history_CovN, 'val_acc', 'Validation Accuracy', 'Validation Accuracy vs. No. of epochs')"
      ],
      "execution_count": null,
      "outputs": []
    },
    {
      "cell_type": "code",
      "source": [
        "plot_accuracies(history_CovN, 'val_f1', 'Validation F1 Score', 'Validation F1 Score vs. No. of epochs')"
      ],
      "metadata": {
        "id": "7arBx9PLfxCD"
      },
      "execution_count": null,
      "outputs": []
    },
    {
      "cell_type": "code",
      "metadata": {
        "id": "WcNGdfTPqBtV"
      },
      "source": [
        "def plot_losses(history):\n",
        "    train_losses = [x.get('train_loss') for x in history]\n",
        "    val_losses = [x['val_loss'] for x in history]\n",
        "    plt.plot(train_losses, '-b')\n",
        "    plt.plot(val_losses, '-r')\n",
        "    plt.xlabel('epoch')\n",
        "    plt.ylabel('loss')\n",
        "    plt.legend(['Training', 'Validation'])\n",
        "    plt.title('Loss vs. No. of epochs');"
      ],
      "execution_count": null,
      "outputs": []
    },
    {
      "cell_type": "code",
      "metadata": {
        "id": "VJVDxPWVqEpq"
      },
      "source": [
        "plot_losses(history_CovN)"
      ],
      "execution_count": null,
      "outputs": []
    },
    {
      "cell_type": "code",
      "source": [
        "test_history_CovN = [evaluate(model, validation_dataloader)]"
      ],
      "metadata": {
        "id": "KA0xwZVWf9z2"
      },
      "execution_count": null,
      "outputs": []
    },
    {
      "cell_type": "code",
      "metadata": {
        "id": "fXfXplh2uiDX",
        "colab": {
          "base_uri": "https://localhost:8080/"
        },
        "outputId": "9ab0a174-d83e-42bb-d414-5034b766a6dc"
      },
      "source": [
        "test_history_CovN"
      ],
      "execution_count": null,
      "outputs": [
        {
          "output_type": "execute_result",
          "data": {
            "text/plain": [
              "[{'val_acc': 0.9985119104385376,\n",
              "  'val_f1': 0.9982202053070068,\n",
              "  'val_loss': 0.007863505743443966,\n",
              "  'val_precision': 0.9970238208770752,\n",
              "  'val_recall': 0.9994823932647705}]"
            ]
          },
          "metadata": {},
          "execution_count": 86
        }
      ]
    }
  ]
}